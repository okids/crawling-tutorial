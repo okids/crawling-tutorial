{
 "cells": [
  {
   "cell_type": "markdown",
   "metadata": {},
   "source": [
    "<center><h1>Article Crawler</h1></center>\n",
    "<center><h3>\"Everything in the internet is legal !\" - Abraham Lincoln</h3></center>\n",
    "\n",
    "<br>Ussualy when you need dataset for article classification, either it is sentiment analysis or category-like classification, you will crawl articles from publisher site. In this notebook, we will give tutorial about crawling articles from a publisher site. <br><br>\n",
    "First, we need import two important library : <br>\n",
    "- BeatifulSoup : Saving HTML data into useful data structure. This useful for retrieve content and title from publisher site. Further explanation (https://www.crummy.com/software/BeautifulSoup/bs4/doc/)<br>\n",
    "- Requests : Get HTML data from publisher site.\n",
    "\n",
    "In this notebook, we choose [timorexpress](http://timorexpress.fajar.co.id/) as publisher site to crawl. We want to crawl [*rakyat-timor*](http://timorexpress.fajar.co.id/rubrik/rakyat-timor/page/1/) rubric :\n",
    "\n",
    "![tribun-timur](img/timur.png)\n",
    "\n",
    "As you can see, currently there are 44 pages of *rakyat-timor* rubric and we want to crawl all article in that section.\n"
   ]
  },
  {
   "cell_type": "code",
   "execution_count": 3,
   "metadata": {
    "collapsed": true
   },
   "outputs": [],
   "source": [
    "from bs4 import BeautifulSoup\n",
    "import requests\n"
   ]
  },
  {
   "cell_type": "markdown",
   "metadata": {},
   "source": [
    "Our main crawler application need two function :\n",
    "- parse_list(url_publisher) : Retrieve 10 articles url from [this](http://timorexpress.fajar.co.id/rubrik/rakyat-timor/page/1/) page. Returned result from this function is list of articles url.\n",
    "- parse_detail(url_article) : Extract title and content from an aritcle url. After we get list of url from *parse_list* we will iterate each url and extract the title and content, this is where parse_detail work.\n",
    "\n",
    "Before you create parse_list function, you need to know where is url article store in HTML file. Here is the step:\n",
    "1. Open [this](http://timorexpress.fajar.co.id/rubrik/rakyat-timor/page/1/) page\n",
    "2. Right click in that page, choose inspect element.\n",
    "3. Try highlight an article like this : <br>\n",
    "![ss2](img/ss2.png) <br>\n",
    "4. Look at the HTML, the article is in `<li class='infinite-post'>`. \n",
    "5. Usualy, the url is in `<a href=\"blabla\">` part. In this case, the url in `<a href=\"http://timorexpress.fajar.co.id/2017/09/13/danrem-161ws-kunjungi-pulau-kera/\">` : <br>\n",
    "![ss3](img/ss3.png) <br>\n",
    "6. Those HTML adress is used to get article url.\n",
    "\n",
    "Now look at our example below."
   ]
  },
  {
   "cell_type": "markdown",
   "metadata": {},
   "source": [
    " First, we get HTML data from the page."
   ]
  },
  {
   "cell_type": "code",
   "execution_count": 9,
   "metadata": {
    "collapsed": true
   },
   "outputs": [],
   "source": [
    "resp = requests.get(\"http://timorexpress.fajar.co.id/rubrik/rakyat-timor/page/1/\")"
   ]
  },
  {
   "cell_type": "markdown",
   "metadata": {},
   "source": [
    "If you print the text attribute from the requests return, you will get HTML data like example below. This HTML file will be converted to BeautifulSoup(BS) data type."
   ]
  },
  {
   "cell_type": "code",
   "execution_count": 52,
   "metadata": {
    "collapsed": true
   },
   "outputs": [],
   "source": [
    "print(resp.text)"
   ]
  },
  {
   "cell_type": "markdown",
   "metadata": {},
   "source": [
    "BS will convert HTML data into fetchable data type. <br>In example you wanna get the `<script type=\"text/javascript\">` part, use this syntax : `bs.find('script', {'type':'text/javascript'})`\n",
    "\n",
    "<b>(Note : use `bs.find_all(HTML_PART)` syntax if you want to retrieve list all those kind of HTML part. If you only need one data, use `bs.find(HTML_PART)`)</b>"
   ]
  },
  {
   "cell_type": "code",
   "execution_count": 16,
   "metadata": {
    "scrolled": true
   },
   "outputs": [
    {
     "name": "stdout",
     "output_type": "stream",
     "text": [
      "<script type=\"text/javascript\">\r\n",
      "_atrk_opts = { atrk_acct:\"tww3n1aMp4107i\", domain:\"fajar.co.id\",dynamic: true};\r\n",
      "(function() { var as = document.createElement('script'); as.type = 'text/javascript'; as.async = true; as.src = \"https://d31qbv1cthcecs.cloudfront.net/atrk.js\"; var s = document.getElementsByTagName('script')[0];s.parentNode.insertBefore(as, s); })();\r\n",
      "</script>\n"
     ]
    }
   ],
   "source": [
    "bs = BeautifulSoup(resp.text, \"html.parser\")\n",
    "print(bs.find('script', {'type':'text/javascript'}))"
   ]
  },
  {
   "cell_type": "markdown",
   "metadata": {},
   "source": [
    "From example above, you can fetch every HTML part in the data. In this case, you wanna get url article that saved in : <br>\n",
    "`<a href=\"http://timorexpress.fajar.co.id/2017/09/13/danrem-161ws-kunjungi-pulau-kera/\">` <br>\n",
    "\n",
    "You would think 'Yeah, easy, just fetch all `<a href>` part in the HTML'. But, if you fetch all `<a href>` part this will happen: "
   ]
  },
  {
   "cell_type": "code",
   "execution_count": 21,
   "metadata": {
    "scrolled": true
   },
   "outputs": [
    {
     "name": "stdout",
     "output_type": "stream",
     "text": [
      "[<a class=\"wallpaper-link\" href=\"http://fajar.co.id\" target=\"_blank\"></a>, <a href=\"https://www.facebook.com/TimorExpressNews/\" target=\"_blank\">\n",
      "<i class=\"fa fa-facebook-square fa-2\"></i>\n",
      "</a>, <a href=\"#\" target=\"_blank\">\n",
      "<i class=\"fa fa-twitter fa-2\"></i>\n",
      "</a>, <a href=\"#\" target=\"_blank\">\n",
      "<i class=\"fa fa-pinterest fa-2\"></i>\n",
      "</a>, <a href=\"#\" target=\"_blank\">\n",
      "<i class=\"fa fa-google-plus fa-2\"></i>\n",
      "</a>, <a href=\"#\" target=\"_blank\">\n",
      "<i class=\"fa fa-youtube-play fa-2\"></i>\n",
      "</a>, <a href=\"http://timorexpress.fajar.co.id/feed/rss/\" target=\"_blank\">\n",
      "<i class=\"fa fa-rss fa-2\"></i>\n",
      "</a>, <a href=\"http://fajar.co.id\">FAJAR.CO.ID</a>, <a href=\"#\">COMMUNITY</a>, <a href=\"http://warkopanime.fajar.co.id/\">Warkop Anime</a>, <a href=\"http://answer.fajar.co.id/\">Fajar Answer</a>, <a href=\"http://fajaroke.com/\">Fajar Oke</a>, <a href=\"http://burungkicau.fajar.co.id/\">Klub Burung Kicau</a>, <a href=\"http://jualbeli.fajar.co.id/\">Fajar Jual Beli</a>, <a href=\"http://loker.fajar.co.id/\">Info Loker</a>, <a href=\"#\">NETWORK</a>, <a href=\"http://radarselatan.fajar.co.id/\">Radar Selatan</a>, <a href=\"http://radarbone.fajar.co.id/\">Radar Bone</a>, <a href=\"http://palopopos.fajar.co.id/\">Palopo Pos</a>, <a href=\"http://upeks.fajar.co.id\">Upeks</a>, <a href=\"http://radarsulbar.fajar.co.id/\">Radar Sulbar</a>, <a href=\"http://paluekspres.fajar.co.id/\">Palu Ekspres</a>, <a href=\"http://kendaripos.fajar.co.id/\">Kendari Pos</a>, <a href=\"http://rakyatsultra.fajar.co.id/\">Rakyat Sultra</a>, <a href=\"http://bkk.fajar.co.id/\">Berita Kota Kendari</a>, <a href=\"http://butonpos.fajar.co.id/\">Buton Pos</a>, <a href=\"http://kolakapos.fajar.co.id/\">Kolaka Pos</a>, <a href=\"http://ambonekspres.fajar.co.id/\">Ambon Ekspres</a>, <a href=\"http://rakyatmaluku.fajar.co.id/\">Rakyat Maluku</a>, <a href=\"http://timorexpress.fajar.co.id/\">Home</a>, <a href=\"#\">KUPANG METRO</a>, <a href=\"http://timorexpress.fajar.co.id/rubrik/hukum/\">HUKUM</a>, <a href=\"http://timorexpress.fajar.co.id/rubrik/kriminal/\">KRIMINAL</a>, <a href=\"http://timorexpress.fajar.co.id/rubrik/ragam/\">RAGAM</a>, <a href=\"http://timorexpress.fajar.co.id/rubrik/pariwisata/\">PARIWISATA</a>, <a href=\"http://timorexpress.fajar.co.id/rubrik/politik/\">POLITIK</a>, <a href=\"#\">DAERAH</a>, <a href=\"http://timorexpress.fajar.co.id/rubrik/rakyat-timor/\">RAKYAT TIMOR</a>, <a href=\"http://timorexpress.fajar.co.id/rubrik/surosa/\">SUROSA</a>, <a href=\"http://timorexpress.fajar.co.id/rubrik/flores-raya/\">FLORES RAYA</a>, <a href=\"http://timorexpress.fajar.co.id/rubrik/ekonomi-bisnis/\">EKONOMI BISNIS</a>, <a href=\"http://timorexpress.fajar.co.id/rubrik/pendidikan/\">PENDIDIKAN</a>, <a href=\"http://timorexpress.fajar.co.id/rubrik/nasional/\">NASIONAL</a>, <a href=\"http://timorexpress.fajar.co.id/rubrik/sportivo/\">SPORTIVO</a>, <a href=\"#\">LIFE STYLE</a>, <a href=\"http://timorexpress.fajar.co.id/rubrik/selebrita/\">SELEBRITA</a>, <a href=\"http://timorexpress.fajar.co.id/rubrik/kesehatan/\">KESEHATAN</a>, <a href=\"http://timorexpress.fajar.co.id/rubrik/zetizen/\">ZETIZEN</a>, <a href=\"http://timorexpress.fajar.co.id/rubrik/internasional/\">INTERNASIONAL</a>, <a href=\"http://timorexpress.fajar.co.id/rubrik/opini/\">OPINI</a>, <a href=\"http://timorexpress.fajar.co.id/rubrik/religi/\">RELIGI</a>, <a href=\"http://timorexpress.fajar.co.id/\" itemprop=\"url\"><img alt=\"TIMOREXPRESS.COM\" data-rjs=\"2\" itemprop=\"logo\" src=\"http://timorexpress.fajar.co.id/wp-content/uploads/2017/03/KOPTIMOREXPRESSbaru-2.png-2.png\"/></a>, <a href=\"http://timorexpress.fajar.co.id/\"><img alt=\"TIMOREXPRESS.COM\" data-rjs=\"2\" src=\"http://timorexpress.fajar.co.id/wp-content/uploads/2017/03/KOPTIMOREXPRESSbaru-3.png-3.png\"/></a>, <a href=\"http://fajar.co.id\">FAJAR.CO.ID</a>, <a href=\"#\">COMMUNITY</a>, <a href=\"http://warkopanime.fajar.co.id/\">Warkop Anime</a>, <a href=\"http://answer.fajar.co.id/\">Fajar Answer</a>, <a href=\"http://fajaroke.com/\">Fajar Oke</a>, <a href=\"http://burungkicau.fajar.co.id/\">Klub Burung Kicau</a>, <a href=\"http://jualbeli.fajar.co.id/\">Fajar Jual Beli</a>, <a href=\"http://loker.fajar.co.id/\">Info Loker</a>, <a href=\"#\">NETWORK</a>, <a href=\"http://radarselatan.fajar.co.id/\">Radar Selatan</a>, <a href=\"http://radarbone.fajar.co.id/\">Radar Bone</a>, <a href=\"http://palopopos.fajar.co.id/\">Palopo Pos</a>, <a href=\"http://upeks.fajar.co.id\">Upeks</a>, <a href=\"http://radarsulbar.fajar.co.id/\">Radar Sulbar</a>, <a href=\"http://paluekspres.fajar.co.id/\">Palu Ekspres</a>, <a href=\"http://kendaripos.fajar.co.id/\">Kendari Pos</a>, <a href=\"http://rakyatsultra.fajar.co.id/\">Rakyat Sultra</a>, <a href=\"http://bkk.fajar.co.id/\">Berita Kota Kendari</a>, <a href=\"http://butonpos.fajar.co.id/\">Buton Pos</a>, <a href=\"http://kolakapos.fajar.co.id/\">Kolaka Pos</a>, <a href=\"http://ambonekspres.fajar.co.id/\">Ambon Ekspres</a>, <a href=\"http://rakyatmaluku.fajar.co.id/\">Rakyat Maluku</a>, <a href=\"http://timorexpress.fajar.co.id/\">Home</a>, <a href=\"#\">KUPANG METRO</a>, <a href=\"http://timorexpress.fajar.co.id/rubrik/hukum/\">HUKUM</a>, <a href=\"http://timorexpress.fajar.co.id/2017/09/14/nando-riri-terancam-tujuh-tahun-penjara/\"><div class=\"mega-img\"><img alt=\"\" class=\"unlazy wp-post-image\" height=\"180\" sizes=\"(max-width: 300px) 100vw, 300px\" src=\"http://timorexpress.fajar.co.id/wp-content/uploads/2016/10/1395112_187102481479254_776271070_n-e1477100210358-300x180.jpg\" srcset=\"http://timorexpress.fajar.co.id/wp-content/uploads/2016/10/1395112_187102481479254_776271070_n-e1477100210358-300x180.jpg 300w, http://timorexpress.fajar.co.id/wp-content/uploads/2016/10/1395112_187102481479254_776271070_n-e1477100210358-450x270.jpg 450w\" width=\"300\"/></div>Nando Riri Terancam Tujuh Tahun Penjara</a>, <a href=\"http://timorexpress.fajar.co.id/2017/09/13/berharap-bebas-salmun-divonis-satu-tahun/\"><div class=\"mega-img\"><img alt=\"\" class=\"unlazy wp-post-image\" height=\"180\" sizes=\"(max-width: 300px) 100vw, 300px\" src=\"http://timorexpress.fajar.co.id/wp-content/uploads/2017/09/Ft-Salmun-Tabun-2-300x180.jpg\" srcset=\"http://timorexpress.fajar.co.id/wp-content/uploads/2017/09/Ft-Salmun-Tabun-2-300x180.jpg 300w, http://timorexpress.fajar.co.id/wp-content/uploads/2017/09/Ft-Salmun-Tabun-2-450x270.jpg 450w\" width=\"300\"/></div>Berharap Bebas, Salmun Divonis Satu Tahun</a>, <a href=\"http://timorexpress.fajar.co.id/2017/09/13/kpk-pastikan-hadir-pekan-depan/\"><div class=\"mega-img\"><img alt=\"\" class=\"unlazy wp-post-image\" height=\"180\" sizes=\"(max-width: 300px) 100vw, 300px\" src=\"http://timorexpress.fajar.co.id/wp-content/uploads/2017/09/SIDANG-SETNOV_1-300x180.jpg\" srcset=\"http://timorexpress.fajar.co.id/wp-content/uploads/2017/09/SIDANG-SETNOV_1-300x180.jpg 300w, http://timorexpress.fajar.co.id/wp-content/uploads/2017/09/SIDANG-SETNOV_1-450x270.jpg 450w\" width=\"300\"/></div>KPK Pastikan Hadir Pekan Depan</a>, <a href=\"http://timorexpress.fajar.co.id/2017/09/13/jaksa-bongkar-proyek-dak-pendidikan/\"><div class=\"mega-img\"><img alt=\"\" class=\"unlazy wp-post-image\" height=\"180\" sizes=\"(max-width: 300px) 100vw, 300px\" src=\"http://timorexpress.fajar.co.id/wp-content/uploads/2017/09/IMG_2771-300x180.jpg\" srcset=\"http://timorexpress.fajar.co.id/wp-content/uploads/2017/09/IMG_2771-300x180.jpg 300w, http://timorexpress.fajar.co.id/wp-content/uploads/2017/09/IMG_2771-450x270.jpg 450w\" width=\"300\"/></div>Jaksa Bongkar Proyek DAK Pendidikan</a>, <a href=\"http://timorexpress.fajar.co.id/2017/09/12/polda-bentuk-timsus-kejar-rahmat/\"><div class=\"mega-img\"><img alt=\"\" class=\"unlazy wp-post-image\" height=\"180\" sizes=\"(max-width: 300px) 100vw, 300px\" src=\"http://timorexpress.fajar.co.id/wp-content/uploads/2016/10/1395112_187102481479254_776271070_n-e1477100210358-300x180.jpg\" srcset=\"http://timorexpress.fajar.co.id/wp-content/uploads/2016/10/1395112_187102481479254_776271070_n-e1477100210358-300x180.jpg 300w, http://timorexpress.fajar.co.id/wp-content/uploads/2016/10/1395112_187102481479254_776271070_n-e1477100210358-450x270.jpg 450w\" width=\"300\"/></div>Polda Bentuk Timsus Kejar Rahmat</a>, <a href=\"http://timorexpress.fajar.co.id/rubrik/kriminal/\">KRIMINAL</a>, <a href=\"http://timorexpress.fajar.co.id/2017/08/24/diduga-terlibat-penyeludupan-orang-wna-diringkus/\"><div class=\"mega-img\"><img alt=\"\" class=\"unlazy wp-post-image\" height=\"180\" sizes=\"(max-width: 300px) 100vw, 300px\" src=\"http://timorexpress.fajar.co.id/wp-content/uploads/2017/08/F_Tsk-penyelundupan-WNA-300x180.jpg\" srcset=\"http://timorexpress.fajar.co.id/wp-content/uploads/2017/08/F_Tsk-penyelundupan-WNA-300x180.jpg 300w, http://timorexpress.fajar.co.id/wp-content/uploads/2017/08/F_Tsk-penyelundupan-WNA-450x270.jpg 450w\" width=\"300\"/></div>Diduga Terlibat Penyeludupan Orang, WNA Diringkus</a>, <a href=\"http://timorexpress.fajar.co.id/2017/08/15/dicirugai-santet-dina-patola-oemanu-dihabisi/\"><div class=\"mega-img\"><img alt=\"\" class=\"unlazy wp-post-image\" height=\"180\" sizes=\"(max-width: 300px) 100vw, 300px\" src=\"http://timorexpress.fajar.co.id/wp-content/uploads/2017/08/F_Tsk-bunuh-300x180.jpg\" srcset=\"http://timorexpress.fajar.co.id/wp-content/uploads/2017/08/F_Tsk-bunuh-300x180.jpg 300w, http://timorexpress.fajar.co.id/wp-content/uploads/2017/08/F_Tsk-bunuh-450x270.jpg 450w\" width=\"300\"/></div>Dicirugai Santet, Dina Patola Oemanu Dihabisi</a>, <a href=\"http://timorexpress.fajar.co.id/2017/08/14/pria-tanpa-identitas-sekarat-di-drainase/\"><div class=\"mega-img\"><img alt=\"\" class=\"unlazy wp-post-image\" height=\"180\" sizes=\"(max-width: 300px) 100vw, 300px\" src=\"http://timorexpress.fajar.co.id/wp-content/uploads/2017/08/F_pria-sekarat-300x180.jpg\" srcset=\"http://timorexpress.fajar.co.id/wp-content/uploads/2017/08/F_pria-sekarat-300x180.jpg 300w, http://timorexpress.fajar.co.id/wp-content/uploads/2017/08/F_pria-sekarat-450x270.jpg 450w\" width=\"300\"/></div>Pria Tanpa Identitas Sekarat di Drainase</a>, <a href=\"http://timorexpress.fajar.co.id/2017/08/11/satroni-kos-mahasiswa-abg-gasak-barang-elekrtonik/\"><div class=\"mega-img\"><img alt=\"\" class=\"unlazy wp-post-image\" height=\"180\" sizes=\"(max-width: 300px) 100vw, 300px\" src=\"http://timorexpress.fajar.co.id/wp-content/uploads/2017/08/F_ABG-curi-300x180.jpg\" srcset=\"http://timorexpress.fajar.co.id/wp-content/uploads/2017/08/F_ABG-curi-300x180.jpg 300w, http://timorexpress.fajar.co.id/wp-content/uploads/2017/08/F_ABG-curi-450x270.jpg 450w\" width=\"300\"/></div>Satroni Kos Mahasiswa, ABG Gasak Barang Elekrtonik</a>, <a href=\"http://timorexpress.fajar.co.id/2017/08/05/berulah-residivis-bobol-kotak-amal-ditangkap/\"><div class=\"mega-img\"><img alt=\"\" class=\"unlazy wp-post-image\" height=\"180\" sizes=\"(max-width: 300px) 100vw, 300px\" src=\"http://timorexpress.fajar.co.id/wp-content/uploads/2017/08/F_bobol-kotak-amal-300x180.jpg\" srcset=\"http://timorexpress.fajar.co.id/wp-content/uploads/2017/08/F_bobol-kotak-amal-300x180.jpg 300w, http://timorexpress.fajar.co.id/wp-content/uploads/2017/08/F_bobol-kotak-amal-450x270.jpg 450w\" width=\"300\"/></div>Berulah, Residivis Bobol Kotak Amal Ditangkap</a>, <a href=\"http://timorexpress.fajar.co.id/rubrik/ragam/\">RAGAM</a>, <a href=\"http://timorexpress.fajar.co.id/2017/09/14/kemenristekdikti-tanpa-jago-4-balon-siap-legowo/\"><div class=\"mega-img\"><img alt=\"\" class=\"unlazy wp-post-image\" height=\"180\" src=\"http://timorexpress.fajar.co.id/wp-content/uploads/2017/09/4-Calon-Rektor-Undana-300x180.jpg\" width=\"300\"/></div>Kemenristekdikti Tanpa Jago, 4 Balon Siap Legowo</a>, <a href=\"http://timorexpress.fajar.co.id/2017/09/14/penyidik-dalami-laporan-jonas-salean/\"><div class=\"mega-img\"><img alt=\"\" class=\"unlazy wp-post-image\" height=\"180\" sizes=\"(max-width: 300px) 100vw, 300px\" src=\"http://timorexpress.fajar.co.id/wp-content/uploads/2016/10/1395112_187102481479254_776271070_n-e1477100210358-300x180.jpg\" srcset=\"http://timorexpress.fajar.co.id/wp-content/uploads/2016/10/1395112_187102481479254_776271070_n-e1477100210358-300x180.jpg 300w, http://timorexpress.fajar.co.id/wp-content/uploads/2016/10/1395112_187102481479254_776271070_n-e1477100210358-450x270.jpg 450w\" width=\"300\"/></div>Penyidik Dalami Laporan Jonas Salean</a>, <a href=\"http://timorexpress.fajar.co.id/2017/09/14/proyek-proyek-raksasa-mulai-berjalan/\"><div class=\"mega-img\"><img alt=\"\" class=\"unlazy wp-post-image\" height=\"180\" sizes=\"(max-width: 300px) 100vw, 300px\" src=\"http://timorexpress.fajar.co.id/wp-content/uploads/2016/10/1395112_187102481479254_776271070_n-e1477100210358-300x180.jpg\" srcset=\"http://timorexpress.fajar.co.id/wp-content/uploads/2016/10/1395112_187102481479254_776271070_n-e1477100210358-300x180.jpg 300w, http://timorexpress.fajar.co.id/wp-content/uploads/2016/10/1395112_187102481479254_776271070_n-e1477100210358-450x270.jpg 450w\" width=\"300\"/></div>Proyek-Proyek Raksasa Mulai Berjalan</a>, <a href=\"http://timorexpress.fajar.co.id/2017/09/14/program-bedah-rumah-belum-direalisasi/\"><div class=\"mega-img\"><img alt=\"\" class=\"unlazy wp-post-image\" height=\"180\" sizes=\"(max-width: 300px) 100vw, 300px\" src=\"http://timorexpress.fajar.co.id/wp-content/uploads/2017/09/bedah-rumah-300x180.jpg\" srcset=\"http://timorexpress.fajar.co.id/wp-content/uploads/2017/09/bedah-rumah-300x180.jpg 300w, http://timorexpress.fajar.co.id/wp-content/uploads/2017/09/bedah-rumah-450x270.jpg 450w\" width=\"300\"/></div>Program Bedah Rumah Belum Direalisasi</a>, <a href=\"http://timorexpress.fajar.co.id/2017/09/13/166613/\"><div class=\"mega-img\"><img alt=\"\" class=\"unlazy wp-post-image\" height=\"180\" sizes=\"(max-width: 300px) 100vw, 300px\" src=\"http://timorexpress.fajar.co.id/wp-content/uploads/2017/09/PPP2-300x180.jpg\" srcset=\"http://timorexpress.fajar.co.id/wp-content/uploads/2017/09/PPP2-300x180.jpg 300w, http://timorexpress.fajar.co.id/wp-content/uploads/2017/09/PPP2-450x270.jpg 450w\" width=\"300\"/></div></a>, <a href=\"http://timorexpress.fajar.co.id/rubrik/pariwisata/\">PARIWISATA</a>, <a href=\"http://timorexpress.fajar.co.id/rubrik/politik/\">POLITIK</a>, <a href=\"http://timorexpress.fajar.co.id/2017/09/14/koalisi-golkar-nasdem-belum-final/\"><div class=\"mega-img\"><img alt=\"\" class=\"unlazy wp-post-image\" height=\"180\" sizes=\"(max-width: 300px) 100vw, 300px\" src=\"http://timorexpress.fajar.co.id/wp-content/uploads/2016/10/1395112_187102481479254_776271070_n-e1477100210358-300x180.jpg\" srcset=\"http://timorexpress.fajar.co.id/wp-content/uploads/2016/10/1395112_187102481479254_776271070_n-e1477100210358-300x180.jpg 300w, http://timorexpress.fajar.co.id/wp-content/uploads/2016/10/1395112_187102481479254_776271070_n-e1477100210358-450x270.jpg 450w\" width=\"300\"/></div>Koalisi Golkar-Nasdem Belum Final</a>, <a href=\"http://timorexpress.fajar.co.id/2017/09/14/ppp-uji-14-pasangan-balon-kepala-daerah/\"><div class=\"mega-img\"><img alt=\"\" class=\"unlazy wp-post-image\" height=\"180\" sizes=\"(max-width: 300px) 100vw, 300px\" src=\"http://timorexpress.fajar.co.id/wp-content/uploads/2017/09/Fit-and-proper-tes-PPP-300x180.jpg\" srcset=\"http://timorexpress.fajar.co.id/wp-content/uploads/2017/09/Fit-and-proper-tes-PPP-300x180.jpg 300w, http://timorexpress.fajar.co.id/wp-content/uploads/2017/09/Fit-and-proper-tes-PPP-450x270.jpg 450w\" width=\"300\"/></div>PPP Uji 14 Pasangan Balon Kepala Daerah</a>, <a href=\"http://timorexpress.fajar.co.id/2017/09/13/nasdem-tak-terganggu-marianus-sae/\"><div class=\"mega-img\"><img alt=\"\" class=\"unlazy wp-post-image\" height=\"180\" sizes=\"(max-width: 300px) 100vw, 300px\" src=\"http://timorexpress.fajar.co.id/wp-content/uploads/2016/10/1395112_187102481479254_776271070_n-e1477100210358-300x180.jpg\" srcset=\"http://timorexpress.fajar.co.id/wp-content/uploads/2016/10/1395112_187102481479254_776271070_n-e1477100210358-300x180.jpg 300w, http://timorexpress.fajar.co.id/wp-content/uploads/2016/10/1395112_187102481479254_776271070_n-e1477100210358-450x270.jpg 450w\" width=\"300\"/></div>NasDem Tak Terganggu Marianus Sae</a>, <a href=\"http://timorexpress.fajar.co.id/2017/09/12/sukses-bangun-ngada-jadi-modal-marianus/\"><div class=\"mega-img\"><img alt=\"\" class=\"unlazy wp-post-image\" height=\"180\" src=\"http://timorexpress.fajar.co.id/wp-content/uploads/2017/09/FOTO-MARIANUS-300x180.jpg\" width=\"300\"/></div>Sukses Bangun Ngada jadi Modal Marianus</a>, <a href=\"http://timorexpress.fajar.co.id/2017/09/12/demokrat-dukung-keberadaan-kpk/\"><div class=\"mega-img\"><img alt=\"\" class=\"unlazy wp-post-image\" height=\"180\" sizes=\"(max-width: 300px) 100vw, 300px\" src=\"http://timorexpress.fajar.co.id/wp-content/uploads/2017/09/SEKOLAH-ANTI-KORUPSI-300x180.jpg\" srcset=\"http://timorexpress.fajar.co.id/wp-content/uploads/2017/09/SEKOLAH-ANTI-KORUPSI-300x180.jpg 300w, http://timorexpress.fajar.co.id/wp-content/uploads/2017/09/SEKOLAH-ANTI-KORUPSI-450x270.jpg 450w\" width=\"300\"/></div>Demokrat Dukung Keberadaan KPK</a>, <a href=\"#\">DAERAH</a>, <a href=\"http://timorexpress.fajar.co.id/rubrik/rakyat-timor/\">RAKYAT TIMOR</a>, <a href=\"http://timorexpress.fajar.co.id/2017/09/14/pembangunan-jalan-teres-panite-69-persen/\"><div class=\"mega-img\"><img alt=\"\" class=\"unlazy wp-post-image\" height=\"180\" sizes=\"(max-width: 300px) 100vw, 300px\" src=\"http://timorexpress.fajar.co.id/wp-content/uploads/2017/09/teres-kpg-300x180.jpg\" srcset=\"http://timorexpress.fajar.co.id/wp-content/uploads/2017/09/teres-kpg-300x180.jpg 300w, http://timorexpress.fajar.co.id/wp-content/uploads/2017/09/teres-kpg-450x270.jpg 450w\" width=\"300\"/></div>Pembangunan Jalan Teres-Panite 69 Persen</a>, <a href=\"http://timorexpress.fajar.co.id/2017/09/13/danrem-161ws-kunjungi-pulau-kera/\"><div class=\"mega-img\"><img alt=\"\" class=\"unlazy wp-post-image\" height=\"180\" sizes=\"(max-width: 300px) 100vw, 300px\" src=\"http://timorexpress.fajar.co.id/wp-content/uploads/2017/09/ular-ijo-kpg-300x180.jpg\" srcset=\"http://timorexpress.fajar.co.id/wp-content/uploads/2017/09/ular-ijo-kpg-300x180.jpg 300w, http://timorexpress.fajar.co.id/wp-content/uploads/2017/09/ular-ijo-kpg-450x270.jpg 450w\" width=\"300\"/></div>Danrem 161/WS Kunjungi Pulau Kera</a>, <a href=\"http://timorexpress.fajar.co.id/2017/09/12/jonathan-banunaek-daftar-ke-gerindra/\"><div class=\"mega-img\"><img alt=\"\" class=\"unlazy wp-post-image\" height=\"180\" sizes=\"(max-width: 300px) 100vw, 300px\" src=\"http://timorexpress.fajar.co.id/wp-content/uploads/2017/09/daftar-soe-2-300x180.jpg\" srcset=\"http://timorexpress.fajar.co.id/wp-content/uploads/2017/09/daftar-soe-2-300x180.jpg 300w, http://timorexpress.fajar.co.id/wp-content/uploads/2017/09/daftar-soe-2-450x270.jpg 450w\" width=\"300\"/></div>Jonathan Banunaek Daftar ke Gerindra</a>, <a href=\"http://timorexpress.fajar.co.id/2017/09/11/mantan-kepala-bppd-ttu-diperiksa/\"><div class=\"mega-img\"><img alt=\"\" class=\"unlazy wp-post-image\" height=\"180\" sizes=\"(max-width: 300px) 100vw, 300px\" src=\"http://timorexpress.fajar.co.id/wp-content/uploads/2016/10/1395112_187102481479254_776271070_n-e1477100210358-300x180.jpg\" srcset=\"http://timorexpress.fajar.co.id/wp-content/uploads/2016/10/1395112_187102481479254_776271070_n-e1477100210358-300x180.jpg 300w, http://timorexpress.fajar.co.id/wp-content/uploads/2016/10/1395112_187102481479254_776271070_n-e1477100210358-450x270.jpg 450w\" width=\"300\"/></div>Mantan Kepala BPPD TTU Diperiksa</a>, <a href=\"http://timorexpress.fajar.co.id/2017/09/09/pengajuan-hak-angket-kandas/\"><div class=\"mega-img\"><img alt=\"\" class=\"unlazy wp-post-image\" height=\"180\" sizes=\"(max-width: 300px) 100vw, 300px\" src=\"http://timorexpress.fajar.co.id/wp-content/uploads/2016/10/1395112_187102481479254_776271070_n-e1477100210358-300x180.jpg\" srcset=\"http://timorexpress.fajar.co.id/wp-content/uploads/2016/10/1395112_187102481479254_776271070_n-e1477100210358-300x180.jpg 300w, http://timorexpress.fajar.co.id/wp-content/uploads/2016/10/1395112_187102481479254_776271070_n-e1477100210358-450x270.jpg 450w\" width=\"300\"/></div>Pengajuan Hak Angket Kandas</a>, <a href=\"http://timorexpress.fajar.co.id/rubrik/surosa/\">SUROSA</a>, <a href=\"http://timorexpress.fajar.co.id/rubrik/flores-raya/\">FLORES RAYA</a>, <a href=\"http://timorexpress.fajar.co.id/rubrik/ekonomi-bisnis/\">EKONOMI BISNIS</a>, <a href=\"http://timorexpress.fajar.co.id/2017/09/14/kelola-pelabuhan-harus-punya-izin-bup/\"><div class=\"mega-img\"><img alt=\"\" class=\"unlazy wp-post-image\" height=\"180\" sizes=\"(max-width: 300px) 100vw, 300px\" src=\"http://timorexpress.fajar.co.id/wp-content/uploads/2017/09/Pelabuhan-Tenau-Kupang-300x180.jpg\" srcset=\"http://timorexpress.fajar.co.id/wp-content/uploads/2017/09/Pelabuhan-Tenau-Kupang-300x180.jpg 300w, http://timorexpress.fajar.co.id/wp-content/uploads/2017/09/Pelabuhan-Tenau-Kupang-450x270.jpg 450w\" width=\"300\"/></div>Kelola Pelabuhan, Harus Punya Izin BUP</a>, <a href=\"http://timorexpress.fajar.co.id/2017/09/13/bandara-el-tari-kelebihan-600-ribu-penumpang/\"><div class=\"mega-img\"><img alt=\"\" class=\"unlazy wp-post-image\" height=\"180\" sizes=\"(max-width: 300px) 100vw, 300px\" src=\"http://timorexpress.fajar.co.id/wp-content/uploads/2017/09/Wahyudi-300x180.jpg\" srcset=\"http://timorexpress.fajar.co.id/wp-content/uploads/2017/09/Wahyudi-300x180.jpg 300w, http://timorexpress.fajar.co.id/wp-content/uploads/2017/09/Wahyudi-450x270.jpg 450w\" width=\"300\"/></div>Bandara El Tari Kelebihan 600 Ribu Penumpang</a>, <a href=\"http://timorexpress.fajar.co.id/2017/09/12/pangan-tidak-sehat-timbulkan-200-penyakit/\"><div class=\"mega-img\"><img alt=\"\" class=\"unlazy wp-post-image\" height=\"180\" sizes=\"(max-width: 300px) 100vw, 300px\" src=\"http://timorexpress.fajar.co.id/wp-content/uploads/2017/09/Wagub-pangan-Lokal-300x180.jpg\" srcset=\"http://timorexpress.fajar.co.id/wp-content/uploads/2017/09/Wagub-pangan-Lokal-300x180.jpg 300w, http://timorexpress.fajar.co.id/wp-content/uploads/2017/09/Wagub-pangan-Lokal-450x270.jpg 450w\" width=\"300\"/></div>Pangan Tidak Sehat Timbulkan 200 Penyakit</a>, <a href=\"http://timorexpress.fajar.co.id/2017/09/11/menaker-launching-20-desmigratif-di-ntt/\"><div class=\"mega-img\"><img alt=\"\" class=\"unlazy wp-post-image\" height=\"180\" sizes=\"(max-width: 300px) 100vw, 300px\" src=\"http://timorexpress.fajar.co.id/wp-content/uploads/2016/10/1395112_187102481479254_776271070_n-e1477100210358-300x180.jpg\" srcset=\"http://timorexpress.fajar.co.id/wp-content/uploads/2016/10/1395112_187102481479254_776271070_n-e1477100210358-300x180.jpg 300w, http://timorexpress.fajar.co.id/wp-content/uploads/2016/10/1395112_187102481479254_776271070_n-e1477100210358-450x270.jpg 450w\" width=\"300\"/></div>Menaker Launching 20 Desmigratif di NTT</a>, <a href=\"http://timorexpress.fajar.co.id/2017/09/11/wacanakan-pabrik-semen-keempat-di-ntt/\"><div class=\"mega-img\"><img alt=\"\" class=\"unlazy wp-post-image\" height=\"180\" sizes=\"(max-width: 300px) 100vw, 300px\" src=\"http://timorexpress.fajar.co.id/wp-content/uploads/2017/09/PT-Semen-Kupang-300x180.jpg\" srcset=\"http://timorexpress.fajar.co.id/wp-content/uploads/2017/09/PT-Semen-Kupang-300x180.jpg 300w, http://timorexpress.fajar.co.id/wp-content/uploads/2017/09/PT-Semen-Kupang-450x270.jpg 450w, http://timorexpress.fajar.co.id/wp-content/uploads/2017/09/PT-Semen-Kupang.jpg 500w\" width=\"300\"/></div>Wacanakan Pabrik Semen Keempat di NTT</a>, <a href=\"http://timorexpress.fajar.co.id/rubrik/pendidikan/\">PENDIDIKAN</a>, <a href=\"http://timorexpress.fajar.co.id/2017/09/14/penuhi-kuota-rekrtut-honorer-dan-si-umum/\"><div class=\"mega-img\"><img alt=\"\" class=\"unlazy wp-post-image\" height=\"180\" sizes=\"(max-width: 300px) 100vw, 300px\" src=\"http://timorexpress.fajar.co.id/wp-content/uploads/2016/10/1395112_187102481479254_776271070_n-e1477100210358-300x180.jpg\" srcset=\"http://timorexpress.fajar.co.id/wp-content/uploads/2016/10/1395112_187102481479254_776271070_n-e1477100210358-300x180.jpg 300w, http://timorexpress.fajar.co.id/wp-content/uploads/2016/10/1395112_187102481479254_776271070_n-e1477100210358-450x270.jpg 450w\" width=\"300\"/></div>Penuhi Kuota , Rekrtut Honorer  dan SI Umum</a>, <a href=\"http://timorexpress.fajar.co.id/2017/09/13/para-guru-diminta-cek-ke-bank/\"><div class=\"mega-img\"><img alt=\"\" class=\"unlazy wp-post-image\" height=\"180\" sizes=\"(max-width: 300px) 100vw, 300px\" src=\"http://timorexpress.fajar.co.id/wp-content/uploads/2016/05/Alo-Min-300x180.jpg\" srcset=\"http://timorexpress.fajar.co.id/wp-content/uploads/2016/05/Alo-Min-300x180.jpg 300w, http://timorexpress.fajar.co.id/wp-content/uploads/2016/05/Alo-Min-1000x600.jpg 1000w, http://timorexpress.fajar.co.id/wp-content/uploads/2016/05/Alo-Min-450x270.jpg 450w\" width=\"300\"/></div>Para Guru Diminta Cek ke Bank</a>, <a href=\"http://timorexpress.fajar.co.id/2017/09/12/tiga-calon-direktur-pnk-terpilih/\"><div class=\"mega-img\"><img alt=\"\" class=\"unlazy wp-post-image\" height=\"180\" sizes=\"(max-width: 300px) 100vw, 300px\" src=\"http://timorexpress.fajar.co.id/wp-content/uploads/2017/09/PNK-300x180.jpg\" srcset=\"http://timorexpress.fajar.co.id/wp-content/uploads/2017/09/PNK-300x180.jpg 300w, http://timorexpress.fajar.co.id/wp-content/uploads/2017/09/PNK-450x270.jpg 450w\" width=\"300\"/></div>Tiga Calon Direktur PNK Terpilih</a>, <a href=\"http://timorexpress.fajar.co.id/2017/09/11/ban-pt-visitasi-dan-reakreditasi-prodi-ilmu-komunikasi/\"><div class=\"mega-img\"><img alt=\"\" class=\"unlazy wp-post-image\" height=\"180\" sizes=\"(max-width: 300px) 100vw, 300px\" src=\"http://timorexpress.fajar.co.id/wp-content/uploads/2017/09/Visitasi-Komunikasi-Undana-300x180.jpg\" srcset=\"http://timorexpress.fajar.co.id/wp-content/uploads/2017/09/Visitasi-Komunikasi-Undana-300x180.jpg 300w, http://timorexpress.fajar.co.id/wp-content/uploads/2017/09/Visitasi-Komunikasi-Undana-450x270.jpg 450w\" width=\"300\"/></div>BAN-PT Visitasi dan Reakreditasi Prodi Ilmu Komunikasi</a>, <a href=\"http://timorexpress.fajar.co.id/2017/09/09/angka-buta-aksara-di-ntt-capai-515-persen/\"><div class=\"mega-img\"><img alt=\"\" class=\"unlazy wp-post-image\" height=\"180\" sizes=\"(max-width: 300px) 100vw, 300px\" src=\"http://timorexpress.fajar.co.id/wp-content/uploads/2017/09/57918774-Harris_Iskandar1a-2xoca7tahvmpuftrnkpt6o-300x180.jpg\" srcset=\"http://timorexpress.fajar.co.id/wp-content/uploads/2017/09/57918774-Harris_Iskandar1a-2xoca7tahvmpuftrnkpt6o-300x180.jpg 300w, http://timorexpress.fajar.co.id/wp-content/uploads/2017/09/57918774-Harris_Iskandar1a-2xoca7tahvmpuftrnkpt6o-450x270.jpg 450w\" width=\"300\"/></div>Angka Buta Aksara di NTT Capai 5,15 Persen</a>, <a href=\"http://timorexpress.fajar.co.id/rubrik/nasional/\">NASIONAL</a>, <a href=\"http://timorexpress.fajar.co.id/2017/09/14/bantuan-rohingya-diangkut-empat-hercules/\"><div class=\"mega-img\"><img alt=\"\" class=\"unlazy wp-post-image\" height=\"180\" src=\"http://timorexpress.fajar.co.id/wp-content/uploads/2017/09/Bantu-Pengungsi-Rohingya-300x180.jpg\" width=\"300\"/></div>Bantuan Rohingya Diangkut Empat Hercules</a>, <a href=\"http://timorexpress.fajar.co.id/2017/09/13/kuota-cpns-ggd-2018-capai-17-ribu/\"><div class=\"mega-img\"><img alt=\"\" class=\"unlazy wp-post-image\" height=\"180\" sizes=\"(max-width: 300px) 100vw, 300px\" src=\"http://timorexpress.fajar.co.id/wp-content/uploads/2016/10/1395112_187102481479254_776271070_n-e1477100210358-300x180.jpg\" srcset=\"http://timorexpress.fajar.co.id/wp-content/uploads/2016/10/1395112_187102481479254_776271070_n-e1477100210358-300x180.jpg 300w, http://timorexpress.fajar.co.id/wp-content/uploads/2016/10/1395112_187102481479254_776271070_n-e1477100210358-450x270.jpg 450w\" width=\"300\"/></div>Kuota CPNS GGD 2018 Capai 17 Ribu</a>, <a href=\"http://timorexpress.fajar.co.id/2017/09/05/dpr-vs-kpk-makin-panas/\"><div class=\"mega-img\"><img alt=\"\" class=\"unlazy wp-post-image\" height=\"180\" sizes=\"(max-width: 300px) 100vw, 300px\" src=\"http://timorexpress.fajar.co.id/wp-content/uploads/2016/10/1395112_187102481479254_776271070_n-e1477100210358-300x180.jpg\" srcset=\"http://timorexpress.fajar.co.id/wp-content/uploads/2016/10/1395112_187102481479254_776271070_n-e1477100210358-300x180.jpg 300w, http://timorexpress.fajar.co.id/wp-content/uploads/2016/10/1395112_187102481479254_776271070_n-e1477100210358-450x270.jpg 450w\" width=\"300\"/></div>DPR vs KPK Makin Panas</a>, <a href=\"http://timorexpress.fajar.co.id/2017/09/04/desa-butuh-40-ribu-pendamping/\"><div class=\"mega-img\"><img alt=\"\" class=\"unlazy wp-post-image\" height=\"180\" sizes=\"(max-width: 300px) 100vw, 300px\" src=\"http://timorexpress.fajar.co.id/wp-content/uploads/2016/10/1395112_187102481479254_776271070_n-e1477100210358-300x180.jpg\" srcset=\"http://timorexpress.fajar.co.id/wp-content/uploads/2016/10/1395112_187102481479254_776271070_n-e1477100210358-300x180.jpg 300w, http://timorexpress.fajar.co.id/wp-content/uploads/2016/10/1395112_187102481479254_776271070_n-e1477100210358-450x270.jpg 450w\" width=\"300\"/></div>Desa Butuh 40 ribu Pendamping</a>, <a href=\"http://timorexpress.fajar.co.id/2017/09/02/menangissaat-baca-pledoimesang-minta-maaf/\"><div class=\"mega-img\"><img alt=\"\" class=\"unlazy wp-post-image\" height=\"180\" sizes=\"(max-width: 300px) 100vw, 300px\" src=\"http://timorexpress.fajar.co.id/wp-content/uploads/2017/09/FOTO-MESANG_1-300x180.jpg\" srcset=\"http://timorexpress.fajar.co.id/wp-content/uploads/2017/09/FOTO-MESANG_1-300x180.jpg 300w, http://timorexpress.fajar.co.id/wp-content/uploads/2017/09/FOTO-MESANG_1-450x270.jpg 450w\" width=\"300\"/></div>Menangis,Saat Baca Pledoi,Mesang Minta Maaf</a>, <a href=\"http://timorexpress.fajar.co.id/rubrik/sportivo/\">SPORTIVO</a>, <a href=\"http://timorexpress.fajar.co.id/2017/09/14/rasakan-euforia-honda-dbl-makin-dekat/\"><div class=\"mega-img\"><img alt=\"\" class=\"unlazy wp-post-image\" height=\"180\" sizes=\"(max-width: 300px) 100vw, 300px\" src=\"http://timorexpress.fajar.co.id/wp-content/uploads/2017/09/Lentera-1-300x180.jpg\" srcset=\"http://timorexpress.fajar.co.id/wp-content/uploads/2017/09/Lentera-1-300x180.jpg 300w, http://timorexpress.fajar.co.id/wp-content/uploads/2017/09/Lentera-1-450x270.jpg 450w\" width=\"300\"/></div>Rasakan Euforia Honda DBL Makin Dekat</a>, <a href=\"http://timorexpress.fajar.co.id/2017/09/14/jumpa-thailand-di-semifinal/\"><div class=\"mega-img\"><img alt=\"\" class=\"unlazy wp-post-image\" height=\"180\" sizes=\"(max-width: 300px) 100vw, 300px\" src=\"http://timorexpress.fajar.co.id/wp-content/uploads/2017/09/Egy-Maulana-selebrasiu-300x180.jpg\" srcset=\"http://timorexpress.fajar.co.id/wp-content/uploads/2017/09/Egy-Maulana-selebrasiu-300x180.jpg 300w, http://timorexpress.fajar.co.id/wp-content/uploads/2017/09/Egy-Maulana-selebrasiu-450x270.jpg 450w\" width=\"300\"/></div>Jumpa Thailand di Semifinal</a>, <a href=\"http://timorexpress.fajar.co.id/2017/09/13/15-september-pendaftaran-calon-dibuka/\"><div class=\"mega-img\"><img alt=\"\" class=\"unlazy wp-post-image\" height=\"180\" sizes=\"(max-width: 300px) 100vw, 300px\" src=\"http://timorexpress.fajar.co.id/wp-content/uploads/2017/09/Yitno-Wada-300x180.jpg\" srcset=\"http://timorexpress.fajar.co.id/wp-content/uploads/2017/09/Yitno-Wada-300x180.jpg 300w, http://timorexpress.fajar.co.id/wp-content/uploads/2017/09/Yitno-Wada-450x270.jpg 450w\" width=\"300\"/></div>15 September Pendaftaran Calon Dibuka</a>, <a href=\"http://timorexpress.fajar.co.id/2017/09/12/dukung-honda-dbl-harap-terus-berlanjut/\"><div class=\"mega-img\"><img alt=\"\" class=\"unlazy wp-post-image\" height=\"180\" src=\"http://timorexpress.fajar.co.id/wp-content/uploads/2017/09/SMAN-4-300x180.jpg\" width=\"300\"/></div>Dukung Honda DBL, Harap Terus Berlanjut</a>, <a href=\"http://timorexpress.fajar.co.id/2017/09/12/bikin-tidak-tenang/\"><div class=\"mega-img\"><img alt=\"\" class=\"unlazy wp-post-image\" height=\"180\" sizes=\"(max-width: 300px) 100vw, 300px\" src=\"http://timorexpress.fajar.co.id/wp-content/uploads/2017/09/Egy-Maulana-Vikry-300x180.jpg\" srcset=\"http://timorexpress.fajar.co.id/wp-content/uploads/2017/09/Egy-Maulana-Vikry-300x180.jpg 300w, http://timorexpress.fajar.co.id/wp-content/uploads/2017/09/Egy-Maulana-Vikry-450x270.jpg 450w\" width=\"300\"/></div>Bikin Tidak Tenang</a>, <a href=\"#\">LIFE STYLE</a>, <a href=\"http://timorexpress.fajar.co.id/rubrik/selebrita/\">SELEBRITA</a>, <a href=\"http://timorexpress.fajar.co.id/rubrik/kesehatan/\">KESEHATAN</a>, <a href=\"http://timorexpress.fajar.co.id/2017/05/09/cjh-kota-kupang-periksa-kesehatan/\"><div class=\"mega-img\"><img alt=\"\" class=\"unlazy wp-post-image\" height=\"180\" sizes=\"(max-width: 300px) 100vw, 300px\" src=\"http://timorexpress.fajar.co.id/wp-content/uploads/2016/10/1395112_187102481479254_776271070_n-e1477100210358-300x180.jpg\" srcset=\"http://timorexpress.fajar.co.id/wp-content/uploads/2016/10/1395112_187102481479254_776271070_n-e1477100210358-300x180.jpg 300w, http://timorexpress.fajar.co.id/wp-content/uploads/2016/10/1395112_187102481479254_776271070_n-e1477100210358-450x270.jpg 450w\" width=\"300\"/></div>CJH Kota Kupang Periksa Kesehatan</a>, <a href=\"http://timorexpress.fajar.co.id/2017/05/04/300-juta-orang-alami-depresi/\"><div class=\"mega-img\"><img alt=\"\" class=\"unlazy wp-post-image\" height=\"180\" sizes=\"(max-width: 300px) 100vw, 300px\" src=\"http://timorexpress.fajar.co.id/wp-content/uploads/2016/10/1395112_187102481479254_776271070_n-e1477100210358-300x180.jpg\" srcset=\"http://timorexpress.fajar.co.id/wp-content/uploads/2016/10/1395112_187102481479254_776271070_n-e1477100210358-300x180.jpg 300w, http://timorexpress.fajar.co.id/wp-content/uploads/2016/10/1395112_187102481479254_776271070_n-e1477100210358-450x270.jpg 450w\" width=\"300\"/></div>300 Juta Orang Alami Depresi</a>, <a href=\"http://timorexpress.fajar.co.id/2017/05/03/ntt-dapat-9-dokter-spesialis/\"><div class=\"mega-img\"><img alt=\"\" class=\"unlazy wp-post-image\" height=\"180\" sizes=\"(max-width: 300px) 100vw, 300px\" src=\"http://timorexpress.fajar.co.id/wp-content/uploads/2016/10/1395112_187102481479254_776271070_n-e1477100210358-300x180.jpg\" srcset=\"http://timorexpress.fajar.co.id/wp-content/uploads/2016/10/1395112_187102481479254_776271070_n-e1477100210358-300x180.jpg 300w, http://timorexpress.fajar.co.id/wp-content/uploads/2016/10/1395112_187102481479254_776271070_n-e1477100210358-450x270.jpg 450w\" width=\"300\"/></div>NTT Dapat 9 Dokter Spesialis</a>, <a href=\"http://timorexpress.fajar.co.id/2017/05/02/bidan-harus-update-ilmu/\"><div class=\"mega-img\"><img alt=\"\" class=\"unlazy wp-post-image\" height=\"180\" sizes=\"(max-width: 300px) 100vw, 300px\" src=\"http://timorexpress.fajar.co.id/wp-content/uploads/2017/05/IMG_6320-300x180.jpg\" srcset=\"http://timorexpress.fajar.co.id/wp-content/uploads/2017/05/IMG_6320-300x180.jpg 300w, http://timorexpress.fajar.co.id/wp-content/uploads/2017/05/IMG_6320-450x270.jpg 450w\" width=\"300\"/></div>Bidan Harus Update Ilmu</a>, <a href=\"http://timorexpress.fajar.co.id/2017/04/28/kerupuk-mengandung-boraks-beredar-di-ntt/\"><div class=\"mega-img\"><img alt=\"\" class=\"unlazy wp-post-image\" height=\"180\" sizes=\"(max-width: 300px) 100vw, 300px\" src=\"http://timorexpress.fajar.co.id/wp-content/uploads/2016/10/1395112_187102481479254_776271070_n-e1477100210358-300x180.jpg\" srcset=\"http://timorexpress.fajar.co.id/wp-content/uploads/2016/10/1395112_187102481479254_776271070_n-e1477100210358-300x180.jpg 300w, http://timorexpress.fajar.co.id/wp-content/uploads/2016/10/1395112_187102481479254_776271070_n-e1477100210358-450x270.jpg 450w\" width=\"300\"/></div>Kerupuk Mengandung Boraks Beredar di NTT</a>, <a href=\"http://timorexpress.fajar.co.id/rubrik/zetizen/\">ZETIZEN</a>, <a href=\"http://timorexpress.fajar.co.id/2017/04/13/terimakasih-zetizen-indonesia/\"><div class=\"mega-img\"><img alt=\"\" class=\"unlazy wp-post-image\" height=\"180\" sizes=\"(max-width: 300px) 100vw, 300px\" src=\"http://timorexpress.fajar.co.id/wp-content/uploads/2017/04/zetizen-300x180.jpg\" srcset=\"http://timorexpress.fajar.co.id/wp-content/uploads/2017/04/zetizen-300x180.jpg 300w, http://timorexpress.fajar.co.id/wp-content/uploads/2017/04/zetizen-450x270.jpg 450w\" width=\"300\"/></div>Terimakasih Zetizen Indonesia!!!</a>, <a href=\"http://timorexpress.fajar.co.id/2017/03/10/dari-sekedar-hobi-hingga-meraih-prestasi-nasional/\"><div class=\"mega-img\"><img alt=\"\" class=\"unlazy wp-post-image\" height=\"180\" sizes=\"(max-width: 300px) 100vw, 300px\" src=\"http://timorexpress.fajar.co.id/wp-content/uploads/2017/03/Zefanya-SPEKSANYO-juara-nasional-300x180.jpg\" srcset=\"http://timorexpress.fajar.co.id/wp-content/uploads/2017/03/Zefanya-SPEKSANYO-juara-nasional-300x180.jpg 300w, http://timorexpress.fajar.co.id/wp-content/uploads/2017/03/Zefanya-SPEKSANYO-juara-nasional-450x270.jpg 450w\" width=\"300\"/></div>Dari Sekedar Hobi Hingga Meraih Prestasi Nasional</a>, <a href=\"http://timorexpress.fajar.co.id/2016/10/25/pensi-ajang-unjuk-kreasi/\"><div class=\"mega-img\"><img alt=\"\" class=\"unlazy wp-post-image\" height=\"180\" sizes=\"(max-width: 300px) 100vw, 300px\" src=\"http://timorexpress.fajar.co.id/wp-content/uploads/2016/10/Foto-Seniman-Masuk-Sekolah-300x180.jpg\" srcset=\"http://timorexpress.fajar.co.id/wp-content/uploads/2016/10/Foto-Seniman-Masuk-Sekolah-300x180.jpg 300w, http://timorexpress.fajar.co.id/wp-content/uploads/2016/10/Foto-Seniman-Masuk-Sekolah-450x270.jpg 450w\" width=\"300\"/></div>PENSI Ajang Unjuk Kreasi</a>, <a href=\"http://timorexpress.fajar.co.id/2016/10/18/unjuk-kreasi-dan-menyatu-dengan-alam/\"><div class=\"mega-img\"><img alt=\"\" class=\"unlazy wp-post-image\" height=\"180\" sizes=\"(max-width: 300px) 100vw, 300px\" src=\"http://timorexpress.fajar.co.id/wp-content/uploads/2016/10/ft-6-300x180.jpg\" srcset=\"http://timorexpress.fajar.co.id/wp-content/uploads/2016/10/ft-6-300x180.jpg 300w, http://timorexpress.fajar.co.id/wp-content/uploads/2016/10/ft-6-450x270.jpg 450w\" width=\"300\"/></div>Unjuk Kreasi dan Menyatu Dengan Alam</a>, <a href=\"http://timorexpress.fajar.co.id/2016/10/17/ini-bonus-dari-tuhan/\"><div class=\"mega-img\"><img alt=\"\" class=\"unlazy wp-post-image\" height=\"180\" sizes=\"(max-width: 300px) 100vw, 300px\" src=\"http://timorexpress.fajar.co.id/wp-content/uploads/2016/10/F_JULIANTI-HUKI-300x180.jpg\" srcset=\"http://timorexpress.fajar.co.id/wp-content/uploads/2016/10/F_JULIANTI-HUKI-300x180.jpg 300w, http://timorexpress.fajar.co.id/wp-content/uploads/2016/10/F_JULIANTI-HUKI-450x270.jpg 450w\" width=\"300\"/></div>“Ini Bonus dari TUHAN”</a>, <a href=\"http://timorexpress.fajar.co.id/rubrik/internasional/\">INTERNASIONAL</a>, <a href=\"http://timorexpress.fajar.co.id/2017/09/12/nato-rezim-kim-jong-un-adalah-ancaman-global/\"><div class=\"mega-img\"><img alt=\"\" class=\"unlazy wp-post-image\" height=\"180\" sizes=\"(max-width: 300px) 100vw, 300px\" src=\"http://timorexpress.fajar.co.id/wp-content/uploads/2016/10/1395112_187102481479254_776271070_n-e1477100210358-300x180.jpg\" srcset=\"http://timorexpress.fajar.co.id/wp-content/uploads/2016/10/1395112_187102481479254_776271070_n-e1477100210358-300x180.jpg 300w, http://timorexpress.fajar.co.id/wp-content/uploads/2016/10/1395112_187102481479254_776271070_n-e1477100210358-450x270.jpg 450w\" width=\"300\"/></div>NATO: Rezim Kim Jong-un Adalah Ancaman Global</a>, <a href=\"http://timorexpress.fajar.co.id/2017/09/11/karena-badai-lima-presiden-amerika-bersatu/\"><div class=\"mega-img\"><img alt=\"\" class=\"unlazy wp-post-image\" height=\"180\" src=\"http://timorexpress.fajar.co.id/wp-content/uploads/2017/09/Lima-Presiden-300x180.jpg\" width=\"300\"/></div>Karena Badai, Lima Presiden Amerika Bersatu</a>, <a href=\"http://timorexpress.fajar.co.id/2017/09/09/mayoritas-warga-korsel-yakin-korut-tak-berani/\"><div class=\"mega-img\"><img alt=\"\" class=\"unlazy wp-post-image\" height=\"180\" src=\"http://timorexpress.fajar.co.id/wp-content/uploads/2017/09/Badai-Irma-300x180.jpg\" width=\"300\"/></div>Mayoritas Warga Korsel Yakin Korut Tak Berani</a>, <a href=\"http://timorexpress.fajar.co.id/2017/09/08/jepang-pertimbangkan-beli-nuklir/\"><div class=\"mega-img\"><img alt=\"\" class=\"unlazy wp-post-image\" height=\"180\" sizes=\"(max-width: 300px) 100vw, 300px\" src=\"http://timorexpress.fajar.co.id/wp-content/uploads/2016/10/1395112_187102481479254_776271070_n-e1477100210358-300x180.jpg\" srcset=\"http://timorexpress.fajar.co.id/wp-content/uploads/2016/10/1395112_187102481479254_776271070_n-e1477100210358-300x180.jpg 300w, http://timorexpress.fajar.co.id/wp-content/uploads/2016/10/1395112_187102481479254_776271070_n-e1477100210358-450x270.jpg 450w\" width=\"300\"/></div>Jepang Pertimbangkan Beli Nuklir</a>, <a href=\"http://timorexpress.fajar.co.id/2017/09/07/suu-kyi-banyak-informasi-palsu-tentang-rohingya/\"><div class=\"mega-img\"><img alt=\"\" class=\"unlazy wp-post-image\" height=\"180\" sizes=\"(max-width: 300px) 100vw, 300px\" src=\"http://timorexpress.fajar.co.id/wp-content/uploads/2017/09/Aung-san-Suu-Kyi-300x180.jpg\" srcset=\"http://timorexpress.fajar.co.id/wp-content/uploads/2017/09/Aung-san-Suu-Kyi-300x180.jpg 300w, http://timorexpress.fajar.co.id/wp-content/uploads/2017/09/Aung-san-Suu-Kyi-450x270.jpg 450w\" width=\"300\"/></div>Suu Kyi: Banyak Informasi Palsu tentang Rohingya</a>, <a href=\"http://timorexpress.fajar.co.id/rubrik/opini/\">OPINI</a>, <a href=\"http://timorexpress.fajar.co.id/rubrik/religi/\">RELIGI</a>, <a href=\"http://timorexpress.fajar.co.id/2017/05/12/semarang-punya-wisata-haji-serasa-di-mekah-madinah/\"><div class=\"mega-img\"><img alt=\"\" class=\"unlazy wp-post-image\" height=\"180\" sizes=\"(max-width: 300px) 100vw, 300px\" src=\"http://timorexpress.fajar.co.id/wp-content/uploads/2017/05/FOTO-YOUTUBE-300x180.jpg\" srcset=\"http://timorexpress.fajar.co.id/wp-content/uploads/2017/05/FOTO-YOUTUBE-300x180.jpg 300w, http://timorexpress.fajar.co.id/wp-content/uploads/2017/05/FOTO-YOUTUBE-450x270.jpg 450w\" width=\"300\"/></div>Semarang Punya Wisata Haji Serasa di Mekah-Madinah</a>, <a href=\"http://timorexpress.fajar.co.id/2017/05/12/umat-budha-di-kupang-belum-punya-tempat-ibadah/\"><div class=\"mega-img\"><img alt=\"\" class=\"unlazy wp-post-image\" height=\"180\" sizes=\"(max-width: 300px) 100vw, 300px\" src=\"http://timorexpress.fajar.co.id/wp-content/uploads/2017/05/FOTO-WAISAK-300x180.jpg\" srcset=\"http://timorexpress.fajar.co.id/wp-content/uploads/2017/05/FOTO-WAISAK-300x180.jpg 300w, http://timorexpress.fajar.co.id/wp-content/uploads/2017/05/FOTO-WAISAK-450x270.jpg 450w\" width=\"300\"/></div>Umat Budha di Kupang Belum Punya Tempat Ibadah</a>, <a href=\"http://timorexpress.fajar.co.id/2017/04/30/indahnya-bersama-yesus/\"><div class=\"mega-img\"></div>INDAHNYA BERSAMA YESUS</a>, <a href=\"http://timorexpress.fajar.co.id/2017/04/15/gereja-fokus-pada-kemandirian-ekonomi-jemaat/\"><div class=\"mega-img\"><img alt=\"\" class=\"unlazy wp-post-image\" height=\"180\" sizes=\"(max-width: 300px) 100vw, 300px\" src=\"http://timorexpress.fajar.co.id/wp-content/uploads/2017/04/BETEL-MAULAFA-300x180.jpg\" srcset=\"http://timorexpress.fajar.co.id/wp-content/uploads/2017/04/BETEL-MAULAFA-300x180.jpg 300w, http://timorexpress.fajar.co.id/wp-content/uploads/2017/04/BETEL-MAULAFA-450x270.jpg 450w\" width=\"300\"/></div>Gereja Fokus pada Kemandirian Ekonomi Jemaat</a>, <a href=\"http://timorexpress.fajar.co.id/2017/01/20/pemimpin-pemimpin-yang-menyeru-ke-neraka-dan-munafiqin-yang-pandai-bicara/\"><div class=\"mega-img\"></div>Pemimpin-Pemimpin yang Menyeru ke Neraka  Dan Munafiqin yang Pandai Bicara</a>, <a href=\"https://www.facebook.com/TimorExpressNews/\" target=\"_blank\">\n",
      "<span class=\"nav-soc-but\"><i class=\"fa fa-facebook fa-2\"></i></span>\n",
      "</a>, <a href=\"#\" target=\"_blank\">\n",
      "<span class=\"nav-soc-but\"><i class=\"fa fa-twitter fa-2\"></i></span>\n",
      "</a>, <a href=\"http://timorexpress.fajar.co.id/2017/09/14/pembangunan-jalan-teres-panite-69-persen/\" rel=\"bookmark\">\n",
      "<div class=\"left relative\" id=\"home-feat-img\">\n",
      "<img alt=\"\" class=\"reg-img wp-post-image\" height=\"281\" sizes=\"(max-width: 500px) 100vw, 500px\" src=\"http://timorexpress.fajar.co.id/wp-content/uploads/2017/09/teres-kpg.jpg\" srcset=\"http://timorexpress.fajar.co.id/wp-content/uploads/2017/09/teres-kpg.jpg 500w, http://timorexpress.fajar.co.id/wp-content/uploads/2017/09/teres-kpg-300x169.jpg 300w\" width=\"500\"/> <img alt=\"\" class=\"mob-img wp-post-image\" height=\"270\" sizes=\"(max-width: 450px) 100vw, 450px\" src=\"http://timorexpress.fajar.co.id/wp-content/uploads/2017/09/teres-kpg-450x270.jpg\" srcset=\"http://timorexpress.fajar.co.id/wp-content/uploads/2017/09/teres-kpg-450x270.jpg 450w, http://timorexpress.fajar.co.id/wp-content/uploads/2017/09/teres-kpg-300x180.jpg 300w\" width=\"450\"/> </div><!--home-feat-img-->\n",
      "<div id=\"home-feat-text\">\n",
      "<h2 class=\"stand-title\">Pembangunan Jalan Teres-Panite 69 Persen</h2>\n",
      "</div><!--home-feat-text-->\n",
      "<div class=\"feat-info-wrap\">\n",
      "<div class=\"feat-info-views\">\n",
      "<i class=\"fa fa-eye fa-2\"></i> <span class=\"feat-info-text\">50</span>\n",
      "</div><!--feat-info-views-->\n",
      "</div><!--feat-info-wrap-->\n",
      "</a>, <a href=\"http://timorexpress.fajar.co.id/2017/09/13/danrem-161ws-kunjungi-pulau-kera/\" rel=\"bookmark\" title=\"Danrem 161/WS Kunjungi Pulau Kera\">\n",
      "<div class=\"archive-list-out\">\n",
      "<div class=\"archive-list-img left relative\">\n",
      "<img alt=\"\" class=\"reg-img wp-post-image\" height=\"270\" sizes=\"(max-width: 450px) 100vw, 450px\" src=\"http://timorexpress.fajar.co.id/wp-content/uploads/2017/09/ular-ijo-kpg-450x270.jpg\" srcset=\"http://timorexpress.fajar.co.id/wp-content/uploads/2017/09/ular-ijo-kpg-450x270.jpg 450w, http://timorexpress.fajar.co.id/wp-content/uploads/2017/09/ular-ijo-kpg-300x180.jpg 300w\" width=\"450\"/> <img alt=\"\" class=\"mob-img wp-post-image\" height=\"80\" sizes=\"(max-width: 80px) 100vw, 80px\" src=\"http://timorexpress.fajar.co.id/wp-content/uploads/2017/09/ular-ijo-kpg-80x80.jpg\" srcset=\"http://timorexpress.fajar.co.id/wp-content/uploads/2017/09/ular-ijo-kpg-80x80.jpg 80w, http://timorexpress.fajar.co.id/wp-content/uploads/2017/09/ular-ijo-kpg-150x150.jpg 150w\" width=\"80\"/> <div class=\"feat-info-wrap\">\n",
      "<div class=\"feat-info-views\">\n",
      "<i class=\"fa fa-eye fa-2\"></i> <span class=\"feat-info-text\">113</span>\n",
      "</div><!--feat-info-views-->\n",
      "</div><!--feat-info-wrap-->\n",
      "</div><!--archive-list-img-->\n",
      "<div class=\"archive-list-in\">\n",
      "<div class=\"archive-list-text left relative\">\n",
      "<h2>Danrem 161/WS Kunjungi Pulau Kera</h2>\n",
      "<p>POSE BERSAMA. Danrem 161/Wira Sakti, Brigjen TNI Teguh Muji Angkasa pose bersama warga pulau Kera usai baksos, Sabtu (9/9)</p>\n",
      "</div><!--archive-list-text-->\n",
      "</div><!--archive-list-in-->\n",
      "</div><!--archive-list-out-->\n",
      "</a>, <a href=\"http://timorexpress.fajar.co.id/2017/09/12/jonathan-banunaek-daftar-ke-gerindra/\" rel=\"bookmark\" title=\"Jonathan Banunaek Daftar ke Gerindra\">\n",
      "<div class=\"archive-list-out\">\n",
      "<div class=\"archive-list-img left relative\">\n",
      "<img alt=\"\" class=\"reg-img wp-post-image\" height=\"270\" sizes=\"(max-width: 450px) 100vw, 450px\" src=\"http://timorexpress.fajar.co.id/wp-content/uploads/2017/09/daftar-soe-2-450x270.jpg\" srcset=\"http://timorexpress.fajar.co.id/wp-content/uploads/2017/09/daftar-soe-2-450x270.jpg 450w, http://timorexpress.fajar.co.id/wp-content/uploads/2017/09/daftar-soe-2-300x180.jpg 300w\" width=\"450\"/> <img alt=\"\" class=\"mob-img wp-post-image\" height=\"80\" sizes=\"(max-width: 80px) 100vw, 80px\" src=\"http://timorexpress.fajar.co.id/wp-content/uploads/2017/09/daftar-soe-2-80x80.jpg\" srcset=\"http://timorexpress.fajar.co.id/wp-content/uploads/2017/09/daftar-soe-2-80x80.jpg 80w, http://timorexpress.fajar.co.id/wp-content/uploads/2017/09/daftar-soe-2-150x150.jpg 150w\" width=\"80\"/> <div class=\"feat-info-wrap\">\n",
      "<div class=\"feat-info-views\">\n",
      "<i class=\"fa fa-eye fa-2\"></i> <span class=\"feat-info-text\">186</span>\n",
      "</div><!--feat-info-views-->\n",
      "</div><!--feat-info-wrap-->\n",
      "</div><!--archive-list-img-->\n",
      "<div class=\"archive-list-in\">\n",
      "<div class=\"archive-list-text left relative\">\n",
      "<h2>Jonathan Banunaek Daftar ke Gerindra</h2>\n",
      "<p>SERAHKAN DOKUMEN. Jonathan Banunaek saat menyerahkan dokumen pendaftaran bakal calon wakil bupati TTS di Partai Gerindra, Senin (11/9).</p>\n",
      "</div><!--archive-list-text-->\n",
      "</div><!--archive-list-in-->\n",
      "</div><!--archive-list-out-->\n",
      "</a>, <a href=\"http://timorexpress.fajar.co.id/2017/09/11/mantan-kepala-bppd-ttu-diperiksa/\" rel=\"bookmark\" title=\"Mantan Kepala BPPD TTU Diperiksa\">\n",
      "<div class=\"archive-list-out\">\n",
      "<div class=\"archive-list-img left relative\">\n",
      "<img alt=\"\" class=\"reg-img wp-post-image\" height=\"270\" sizes=\"(max-width: 450px) 100vw, 450px\" src=\"http://timorexpress.fajar.co.id/wp-content/uploads/2016/10/1395112_187102481479254_776271070_n-e1477100210358-450x270.jpg\" srcset=\"http://timorexpress.fajar.co.id/wp-content/uploads/2016/10/1395112_187102481479254_776271070_n-e1477100210358-450x270.jpg 450w, http://timorexpress.fajar.co.id/wp-content/uploads/2016/10/1395112_187102481479254_776271070_n-e1477100210358-300x180.jpg 300w\" width=\"450\"/> <img alt=\"\" class=\"mob-img wp-post-image\" height=\"80\" sizes=\"(max-width: 80px) 100vw, 80px\" src=\"http://timorexpress.fajar.co.id/wp-content/uploads/2016/10/1395112_187102481479254_776271070_n-e1477100210358-80x80.jpg\" srcset=\"http://timorexpress.fajar.co.id/wp-content/uploads/2016/10/1395112_187102481479254_776271070_n-e1477100210358-80x80.jpg 80w, http://timorexpress.fajar.co.id/wp-content/uploads/2016/10/1395112_187102481479254_776271070_n-e1477100210358-150x150.jpg 150w\" width=\"80\"/> <div class=\"feat-info-wrap\">\n",
      "<div class=\"feat-info-views\">\n",
      "<i class=\"fa fa-eye fa-2\"></i> <span class=\"feat-info-text\">165</span>\n",
      "</div><!--feat-info-views-->\n",
      "</div><!--feat-info-wrap-->\n",
      "</div><!--archive-list-img-->\n",
      "<div class=\"archive-list-in\">\n",
      "<div class=\"archive-list-text left relative\">\n",
      "<h2>Mantan Kepala BPPD TTU Diperiksa</h2>\n",
      "<p>Dugaan Korupsi Empat Paket Jalan Perbatasan KEFAMENANU, TIMEX – Tunggakan penanganan dugaan korupsi empat paket proyek jalan perbatasan tahun anggaran 2013, mulai...</p>\n",
      "</div><!--archive-list-text-->\n",
      "</div><!--archive-list-in-->\n",
      "</div><!--archive-list-out-->\n",
      "</a>, <a href=\"http://timorexpress.fajar.co.id/2017/09/09/pengajuan-hak-angket-kandas/\" rel=\"bookmark\" title=\"Pengajuan Hak Angket Kandas\">\n",
      "<div class=\"archive-list-out\">\n",
      "<div class=\"archive-list-img left relative\">\n",
      "<img alt=\"\" class=\"reg-img wp-post-image\" height=\"270\" sizes=\"(max-width: 450px) 100vw, 450px\" src=\"http://timorexpress.fajar.co.id/wp-content/uploads/2016/10/1395112_187102481479254_776271070_n-e1477100210358-450x270.jpg\" srcset=\"http://timorexpress.fajar.co.id/wp-content/uploads/2016/10/1395112_187102481479254_776271070_n-e1477100210358-450x270.jpg 450w, http://timorexpress.fajar.co.id/wp-content/uploads/2016/10/1395112_187102481479254_776271070_n-e1477100210358-300x180.jpg 300w\" width=\"450\"/> <img alt=\"\" class=\"mob-img wp-post-image\" height=\"80\" sizes=\"(max-width: 80px) 100vw, 80px\" src=\"http://timorexpress.fajar.co.id/wp-content/uploads/2016/10/1395112_187102481479254_776271070_n-e1477100210358-80x80.jpg\" srcset=\"http://timorexpress.fajar.co.id/wp-content/uploads/2016/10/1395112_187102481479254_776271070_n-e1477100210358-80x80.jpg 80w, http://timorexpress.fajar.co.id/wp-content/uploads/2016/10/1395112_187102481479254_776271070_n-e1477100210358-150x150.jpg 150w\" width=\"80\"/> <div class=\"feat-info-wrap\">\n",
      "<div class=\"feat-info-views\">\n",
      "<i class=\"fa fa-eye fa-2\"></i> <span class=\"feat-info-text\">275</span>\n",
      "</div><!--feat-info-views-->\n",
      "</div><!--feat-info-wrap-->\n",
      "</div><!--archive-list-img-->\n",
      "<div class=\"archive-list-in\">\n",
      "<div class=\"archive-list-text left relative\">\n",
      "<h2>Pengajuan Hak Angket Kandas</h2>\n",
      "<p>SOE, TIMEX – Pemerintah Kabupaten (Pemkab) TTS memperoleh dana alokasi khusus (DAK) sebesar Rp 30 miliar serta kelebihan anggaran dari rasionalisasi APBD...</p>\n",
      "</div><!--archive-list-text-->\n",
      "</div><!--archive-list-in-->\n",
      "</div><!--archive-list-out-->\n",
      "</a>, <a href=\"http://timorexpress.fajar.co.id/2017/09/08/sman-1-amanuban-timur-bangun-lapangan-terintegrasi/\" rel=\"bookmark\" title=\"SMAN 1 Amanuban Timur Bangun Lapangan Terintegrasi\">\n",
      "<div class=\"archive-list-out\">\n",
      "<div class=\"archive-list-img left relative\">\n",
      "<img alt=\"\" class=\"reg-img wp-post-image\" height=\"262\" src=\"http://timorexpress.fajar.co.id/wp-content/uploads/2017/09/pohon-soe-450x262.jpg\" width=\"450\"/> <img alt=\"\" class=\"mob-img wp-post-image\" height=\"80\" sizes=\"(max-width: 80px) 100vw, 80px\" src=\"http://timorexpress.fajar.co.id/wp-content/uploads/2017/09/pohon-soe-80x80.jpg\" srcset=\"http://timorexpress.fajar.co.id/wp-content/uploads/2017/09/pohon-soe-80x80.jpg 80w, http://timorexpress.fajar.co.id/wp-content/uploads/2017/09/pohon-soe-150x150.jpg 150w\" width=\"80\"/> <div class=\"feat-info-wrap\">\n",
      "<div class=\"feat-info-views\">\n",
      "<i class=\"fa fa-eye fa-2\"></i> <span class=\"feat-info-text\">287</span>\n",
      "</div><!--feat-info-views-->\n",
      "</div><!--feat-info-wrap-->\n",
      "</div><!--archive-list-img-->\n",
      "<div class=\"archive-list-in\">\n",
      "<div class=\"archive-list-text left relative\">\n",
      "<h2>SMAN 1 Amanuban Timur Bangun Lapangan Terintegrasi</h2>\n",
      "<p>DISKUSI. Pihak SMAN 1 Amanuban Timur berdiskusi bersama Kabid Peningkatan Prestasi Olahraga Dispora TTS, Fery Meko terkait rencana pembangunan lapangan terintegrasi, Rabu...</p>\n",
      "</div><!--archive-list-text-->\n",
      "</div><!--archive-list-in-->\n",
      "</div><!--archive-list-out-->\n",
      "</a>, <a href=\"http://timorexpress.fajar.co.id/2017/09/08/maria-akhiri-hidup-dengan-foltus/\" rel=\"bookmark\" title=\"Maria Akhiri Hidup dengan Foltus\">\n",
      "<div class=\"archive-list-out\">\n",
      "<div class=\"archive-list-img left relative\">\n",
      "<img alt=\"\" class=\"reg-img wp-post-image\" height=\"270\" sizes=\"(max-width: 450px) 100vw, 450px\" src=\"http://timorexpress.fajar.co.id/wp-content/uploads/2017/09/tewas-btun-450x270.jpg\" srcset=\"http://timorexpress.fajar.co.id/wp-content/uploads/2017/09/tewas-btun-450x270.jpg 450w, http://timorexpress.fajar.co.id/wp-content/uploads/2017/09/tewas-btun-300x180.jpg 300w\" width=\"450\"/> <img alt=\"\" class=\"mob-img wp-post-image\" height=\"80\" sizes=\"(max-width: 80px) 100vw, 80px\" src=\"http://timorexpress.fajar.co.id/wp-content/uploads/2017/09/tewas-btun-80x80.jpg\" srcset=\"http://timorexpress.fajar.co.id/wp-content/uploads/2017/09/tewas-btun-80x80.jpg 80w, http://timorexpress.fajar.co.id/wp-content/uploads/2017/09/tewas-btun-150x150.jpg 150w\" width=\"80\"/> <div class=\"feat-info-wrap\">\n",
      "<div class=\"feat-info-views\">\n",
      "<i class=\"fa fa-eye fa-2\"></i> <span class=\"feat-info-text\">213</span>\n",
      "</div><!--feat-info-views-->\n",
      "</div><!--feat-info-wrap-->\n",
      "</div><!--archive-list-img-->\n",
      "<div class=\"archive-list-in\">\n",
      "<div class=\"archive-list-text left relative\">\n",
      "<h2>Maria Akhiri Hidup dengan Foltus</h2>\n",
      "<p>DISEMAYAMKAN. Jenazah Maria Gaudensia Naikofi disemayamkan di rumah duka di Desa Rabasa Haerain sebelum diantar ke rumah orang tua di Kefamenanu Kabupaten...</p>\n",
      "</div><!--archive-list-text-->\n",
      "</div><!--archive-list-in-->\n",
      "</div><!--archive-list-out-->\n",
      "</a>, <a href=\"http://timorexpress.fajar.co.id/2017/09/07/johannis-ottemoesoe-pimpin-knpi-kabupaten-kupang/\" rel=\"bookmark\" title=\"Johannis Ottemoesoe Pimpin KNPI Kabupaten Kupang\">\n",
      "<div class=\"archive-list-out\">\n",
      "<div class=\"archive-list-img left relative\">\n",
      "<img alt=\"\" class=\"reg-img wp-post-image\" height=\"270\" sizes=\"(max-width: 450px) 100vw, 450px\" src=\"http://timorexpress.fajar.co.id/wp-content/uploads/2017/09/knpi-kpg-450x270.jpg\" srcset=\"http://timorexpress.fajar.co.id/wp-content/uploads/2017/09/knpi-kpg-450x270.jpg 450w, http://timorexpress.fajar.co.id/wp-content/uploads/2017/09/knpi-kpg-300x180.jpg 300w\" width=\"450\"/> <img alt=\"\" class=\"mob-img wp-post-image\" height=\"80\" sizes=\"(max-width: 80px) 100vw, 80px\" src=\"http://timorexpress.fajar.co.id/wp-content/uploads/2017/09/knpi-kpg-80x80.jpg\" srcset=\"http://timorexpress.fajar.co.id/wp-content/uploads/2017/09/knpi-kpg-80x80.jpg 80w, http://timorexpress.fajar.co.id/wp-content/uploads/2017/09/knpi-kpg-150x150.jpg 150w\" width=\"80\"/> <div class=\"feat-info-wrap\">\n",
      "<div class=\"feat-info-views\">\n",
      "<i class=\"fa fa-eye fa-2\"></i> <span class=\"feat-info-text\">203</span>\n",
      "</div><!--feat-info-views-->\n",
      "</div><!--feat-info-wrap-->\n",
      "</div><!--archive-list-img-->\n",
      "<div class=\"archive-list-in\">\n",
      "<div class=\"archive-list-text left relative\">\n",
      "<h2>Johannis Ottemoesoe Pimpin KNPI Kabupaten Kupang</h2>\n",
      "<p>TANDA TANGAN. Johannis Ottemoesoe menandatangani dokumen pelantikan sebagai ketua DPD KNPI Kabupaten Kupang disaksikan Ketua DPD KNPI NTT, Hermanus Th Boki, Senin...</p>\n",
      "</div><!--archive-list-text-->\n",
      "</div><!--archive-list-in-->\n",
      "</div><!--archive-list-out-->\n",
      "</a>, <a href=\"http://timorexpress.fajar.co.id/2017/09/06/jemi-haekase-daftar-ke-pkb/\" rel=\"bookmark\" title=\"Jemi Haekase Daftar ke PKB\">\n",
      "<div class=\"archive-list-out\">\n",
      "<div class=\"archive-list-img left relative\">\n",
      "<img alt=\"\" class=\"reg-img wp-post-image\" height=\"270\" sizes=\"(max-width: 450px) 100vw, 450px\" src=\"http://timorexpress.fajar.co.id/wp-content/uploads/2017/09/daftar-soe-1-450x270.jpg\" srcset=\"http://timorexpress.fajar.co.id/wp-content/uploads/2017/09/daftar-soe-1-450x270.jpg 450w, http://timorexpress.fajar.co.id/wp-content/uploads/2017/09/daftar-soe-1-300x180.jpg 300w\" width=\"450\"/> <img alt=\"\" class=\"mob-img wp-post-image\" height=\"80\" sizes=\"(max-width: 80px) 100vw, 80px\" src=\"http://timorexpress.fajar.co.id/wp-content/uploads/2017/09/daftar-soe-1-80x80.jpg\" srcset=\"http://timorexpress.fajar.co.id/wp-content/uploads/2017/09/daftar-soe-1-80x80.jpg 80w, http://timorexpress.fajar.co.id/wp-content/uploads/2017/09/daftar-soe-1-150x150.jpg 150w\" width=\"80\"/> <div class=\"feat-info-wrap\">\n",
      "<div class=\"feat-info-views\">\n",
      "<i class=\"fa fa-eye fa-2\"></i> <span class=\"feat-info-text\">199</span>\n",
      "</div><!--feat-info-views-->\n",
      "</div><!--feat-info-wrap-->\n",
      "</div><!--archive-list-img-->\n",
      "<div class=\"archive-list-in\">\n",
      "<div class=\"archive-list-text left relative\">\n",
      "<h2>Jemi Haekase Daftar ke PKB</h2>\n",
      "<p>DAFTAR. Bakal calon wakil bupati TTS, Jemi Haekase saat menyerahkan dokumen pendaftaran kepada Ketua DPC PKB TTS, Relygius Usfunan, Senin (4/9).</p>\n",
      "</div><!--archive-list-text-->\n",
      "</div><!--archive-list-in-->\n",
      "</div><!--archive-list-out-->\n",
      "</a>, <a href=\"http://timorexpress.fajar.co.id/2017/09/05/ceburkan-diri-ke-embung-meri-tewas/\" rel=\"bookmark\" title=\"Ceburkan Diri ke Embung, Meri Tewas\">\n",
      "<div class=\"archive-list-out\">\n",
      "<div class=\"archive-list-img left relative\">\n",
      "<img alt=\"\" class=\"reg-img wp-post-image\" height=\"270\" sizes=\"(max-width: 450px) 100vw, 450px\" src=\"http://timorexpress.fajar.co.id/wp-content/uploads/2017/09/tikar-soe-450x270.gif\" srcset=\"http://timorexpress.fajar.co.id/wp-content/uploads/2017/09/tikar-soe-450x270.gif 450w, http://timorexpress.fajar.co.id/wp-content/uploads/2017/09/tikar-soe-300x180.gif 300w\" width=\"450\"/> <img alt=\"\" class=\"mob-img wp-post-image\" height=\"80\" sizes=\"(max-width: 80px) 100vw, 80px\" src=\"http://timorexpress.fajar.co.id/wp-content/uploads/2017/09/tikar-soe-80x80.gif\" srcset=\"http://timorexpress.fajar.co.id/wp-content/uploads/2017/09/tikar-soe-80x80.gif 80w, http://timorexpress.fajar.co.id/wp-content/uploads/2017/09/tikar-soe-150x150.gif 150w\" width=\"80\"/> <div class=\"feat-info-wrap\">\n",
      "<div class=\"feat-info-views\">\n",
      "<i class=\"fa fa-eye fa-2\"></i> <span class=\"feat-info-text\">273</span>\n",
      "</div><!--feat-info-views-->\n",
      "</div><!--feat-info-wrap-->\n",
      "</div><!--archive-list-img-->\n",
      "<div class=\"archive-list-in\">\n",
      "<div class=\"archive-list-text left relative\">\n",
      "<h2>Ceburkan Diri ke Embung, Meri Tewas</h2>\n",
      "<p>VISUM. Jasad Meri Meryani Kase saat divisum tim medis RSUD SoE, Senin (4/9).</p>\n",
      "</div><!--archive-list-text-->\n",
      "</div><!--archive-list-in-->\n",
      "</div><!--archive-list-out-->\n",
      "</a>, <a class=\"inactive\" href=\"http://timorexpress.fajar.co.id/rubrik/rakyat-timor/page/2/\">2</a>, <a class=\"inactive\" href=\"http://timorexpress.fajar.co.id/rubrik/rakyat-timor/page/3/\">3</a>, <a class=\"inactive\" href=\"http://timorexpress.fajar.co.id/rubrik/rakyat-timor/page/4/\">4</a>, <a class=\"inactive\" href=\"http://timorexpress.fajar.co.id/rubrik/rakyat-timor/page/5/\">5</a>, <a href=\"http://timorexpress.fajar.co.id/rubrik/rakyat-timor/page/2/\">Next ›</a>, <a href=\"http://timorexpress.fajar.co.id/rubrik/rakyat-timor/page/44/\">Last »</a>, <a href=\"https://www.facebook.com/TimorExpressNews/\" target=\"_blank\"><i class=\"fa fa-facebook-square fa-2\"></i></a>, <a href=\"#\" target=\"_blank\"><i class=\"fa fa-twitter-square fa-2\"></i></a>, <a href=\"#\" target=\"_blank\"><i class=\"fa fa-pinterest-square fa-2\"></i></a>, <a href=\"#\" target=\"_blank\"><i class=\"fa fa-google-plus-square fa-2\"></i></a>, <a href=\"#\" target=\"_blank\"><i class=\"fa fa-youtube-play fa-2\"></i></a>, <a href=\"http://timorexpress.fajar.co.id/feed/rss/\" target=\"_blank\"><i class=\"fa fa-rss-square fa-2\"></i></a>, <a href=\"http://fajar.co.id\" target=\"_blank\">FAJAR.CO.ID</a>, <a href=\"http://fajaronline.com\" target=\"_blank\">HARIAN FAJAR</a>, <a href=\"http://fajaronline.com\" target=\"_blank\">FAJAR ONLINE</a>, <a href=\"http://www.useetv.com/livetv/fajartv\" target=\"_blank\">FAJAR TV </a>, <a href=\"http://fajarfmmakassar.com\" target=\"_blank\">FAJAR FM</a>, <a href=\"#\">FAJAR PENDIDIKAN</a>, <a href=\"http://beritakotamakassar.com\" target=\"_blank\">BERITA KOTA MAKASSAR </a>, <a href=\"http://parepos.co.id/\" target=\"_blank\">PAREPOS</a>, <a href=\"http://kendaripos.co.id\" target=\"_blank\"> KENDARI POS</a>, <a href=\"http://palopopos.co.id\" target=\"_blank\">PALOPO POS</a>, <a href=\"http://butonpos.com\" target=\"_blank\">BUTON POS</a>, <a href=\"http://radarmakassar.com\" target=\"_blank\">RADAR MAKASSAR</a>, <a href=\"http://radarsulbar.co.id\" target=\"_blank\">RADAR SULBAR</a>, <a href=\"#\">RADAR BONE</a>, <a href=\"http://radarselatan.co.id/\" target=\"_blank\">RADAR BULUKUMBA</a>, <a href=\"#\">RAKYAT JATENG</a>, <a href=\"http://upeks.co.id\" target=\"_blank\">UPEKS</a>, <a href=\"http://rakyatsulsel.com\" target=\"_blank\">RAKYAT SULSEL</a>, <a href=\"http://rakyatsultra.co.id\" target=\"_blank\">RAKYAT SULTRA</a>, <a href=\"http://maltengekspres.com\" target=\"_blank\">MALTENG EKSPRES</a>, <a href=\"http://ambonekspres.com\" target=\"_blank\">AMBON EKSPRES </a>, <a href=\"http://timorexpress.com\" target=\"_blank\">TIMOR EXPRES</a>, <a href=\"http://rakyatmaluku.com\">RAKYAT MALUKU</a>, <a href=\"http://kilasmaluku.com\">KILAS MALUKU</a>, <a href=\"http://sultra.fajar.co.id\" target=\"_blank\">FAJAR SULTRA</a>, <a href=\"http://paluekspres.com\" target=\"_blank\">PALU EKSPRES </a>, <a href=\"http://timorexpress.fajar.co.id/video/\">Video</a>, <a href=\"http://timorexpress.fajar.co.id/berita-terkini/\">INDEX</a>, <a href=\"http://timorexpress.fajar.co.id/2016/09/22/151320/\">Redaksi</a>]\n"
     ]
    }
   ],
   "source": [
    "print(bs.find_all('a', href=True))"
   ]
  },
  {
   "cell_type": "markdown",
   "metadata": {},
   "source": [
    "You will get all HTML part that contain `<a href>`. It like all url in those page.\n",
    "<br>\n",
    "So, we need to be specific to choose what kind of `<a href>` do we need. That's why we need to get into `article` part to get the right url. The true `article` is in `<li class='infinite-post'>`. So if we doing this :"
   ]
  },
  {
   "cell_type": "code",
   "execution_count": 22,
   "metadata": {},
   "outputs": [
    {
     "data": {
      "text/plain": [
       "<li class=\"infinite-post\">\n",
       "<a href=\"http://timorexpress.fajar.co.id/2017/09/13/danrem-161ws-kunjungi-pulau-kera/\" rel=\"bookmark\" title=\"Danrem 161/WS Kunjungi Pulau Kera\">\n",
       "<div class=\"archive-list-out\">\n",
       "<div class=\"archive-list-img left relative\">\n",
       "<img alt=\"\" class=\"reg-img wp-post-image\" height=\"270\" sizes=\"(max-width: 450px) 100vw, 450px\" src=\"http://timorexpress.fajar.co.id/wp-content/uploads/2017/09/ular-ijo-kpg-450x270.jpg\" srcset=\"http://timorexpress.fajar.co.id/wp-content/uploads/2017/09/ular-ijo-kpg-450x270.jpg 450w, http://timorexpress.fajar.co.id/wp-content/uploads/2017/09/ular-ijo-kpg-300x180.jpg 300w\" width=\"450\"/> <img alt=\"\" class=\"mob-img wp-post-image\" height=\"80\" sizes=\"(max-width: 80px) 100vw, 80px\" src=\"http://timorexpress.fajar.co.id/wp-content/uploads/2017/09/ular-ijo-kpg-80x80.jpg\" srcset=\"http://timorexpress.fajar.co.id/wp-content/uploads/2017/09/ular-ijo-kpg-80x80.jpg 80w, http://timorexpress.fajar.co.id/wp-content/uploads/2017/09/ular-ijo-kpg-150x150.jpg 150w\" width=\"80\"/> <div class=\"feat-info-wrap\">\n",
       "<div class=\"feat-info-views\">\n",
       "<i class=\"fa fa-eye fa-2\"></i> <span class=\"feat-info-text\">113</span>\n",
       "</div><!--feat-info-views-->\n",
       "</div><!--feat-info-wrap-->\n",
       "</div><!--archive-list-img-->\n",
       "<div class=\"archive-list-in\">\n",
       "<div class=\"archive-list-text left relative\">\n",
       "<h2>Danrem 161/WS Kunjungi Pulau Kera</h2>\n",
       "<p>POSE BERSAMA. Danrem 161/Wira Sakti, Brigjen TNI Teguh Muji Angkasa pose bersama warga pulau Kera usai baksos, Sabtu (9/9)</p>\n",
       "</div><!--archive-list-text-->\n",
       "</div><!--archive-list-in-->\n",
       "</div><!--archive-list-out-->\n",
       "</a>\n",
       "</li>"
      ]
     },
     "execution_count": 22,
     "metadata": {},
     "output_type": "execute_result"
    }
   ],
   "source": [
    "bs = bs.find_all('li',{'class':'infinite-post'})\n",
    "bs[0]"
   ]
  },
  {
   "cell_type": "markdown",
   "metadata": {},
   "source": [
    "We are inside the article! <br>\n",
    "We only need to retrieve the URL. Use this code:"
   ]
  },
  {
   "cell_type": "code",
   "execution_count": 24,
   "metadata": {},
   "outputs": [
    {
     "data": {
      "text/plain": [
       "'http://timorexpress.fajar.co.id/2017/09/13/danrem-161ws-kunjungi-pulau-kera/'"
      ]
     },
     "execution_count": 24,
     "metadata": {},
     "output_type": "execute_result"
    }
   ],
   "source": [
    "bs[0].find('a', href=True)['href']"
   ]
  },
  {
   "cell_type": "markdown",
   "metadata": {},
   "source": [
    "Wrap all the code into parse_list. Because we need all `article` part, we will iterate to `article` part get the url."
   ]
  },
  {
   "cell_type": "code",
   "execution_count": 26,
   "metadata": {
    "collapsed": true
   },
   "outputs": [],
   "source": [
    "def parse_list(url_publisher):\n",
    "    resp = requests.get(url_publisher)\n",
    "    bs = BeautifulSoup(resp.text, \"html.parser\")\n",
    "    list_of_url = []\n",
    "    bs = bs.find_all('li',{'class':'infinite-post'})\n",
    "    for a in bs:\n",
    "        list_of_url.append(a.find('a',href=True)['href'])\n",
    "    return list_of_url"
   ]
  },
  {
   "cell_type": "markdown",
   "metadata": {},
   "source": [
    "Lets try our function."
   ]
  },
  {
   "cell_type": "code",
   "execution_count": 27,
   "metadata": {},
   "outputs": [
    {
     "name": "stdout",
     "output_type": "stream",
     "text": [
      "['http://timorexpress.fajar.co.id/2017/09/13/danrem-161ws-kunjungi-pulau-kera/', 'http://timorexpress.fajar.co.id/2017/09/12/jonathan-banunaek-daftar-ke-gerindra/', 'http://timorexpress.fajar.co.id/2017/09/11/mantan-kepala-bppd-ttu-diperiksa/', 'http://timorexpress.fajar.co.id/2017/09/09/pengajuan-hak-angket-kandas/', 'http://timorexpress.fajar.co.id/2017/09/08/sman-1-amanuban-timur-bangun-lapangan-terintegrasi/', 'http://timorexpress.fajar.co.id/2017/09/08/maria-akhiri-hidup-dengan-foltus/', 'http://timorexpress.fajar.co.id/2017/09/07/johannis-ottemoesoe-pimpin-knpi-kabupaten-kupang/', 'http://timorexpress.fajar.co.id/2017/09/06/jemi-haekase-daftar-ke-pkb/', 'http://timorexpress.fajar.co.id/2017/09/05/ceburkan-diri-ke-embung-meri-tewas/']\n"
     ]
    }
   ],
   "source": [
    "print(parse_list(\"http://timorexpress.fajar.co.id/rubrik/rakyat-timor/page/1/\"))"
   ]
  },
  {
   "cell_type": "markdown",
   "metadata": {},
   "source": [
    "Now, you can get all article url in page 1."
   ]
  },
  {
   "cell_type": "markdown",
   "metadata": {},
   "source": [
    "For parse_detail, you will doing the same step as parse_list.\n",
    "\n",
    "1. Go to the page of an article to know where is the content. In this case we choose [this](http://timorexpress.fajar.co.id/2017/09/13/danrem-161ws-kunjungi-pulau-kera/).\n",
    "2. Inspect the HTML, highlight the text to get the content HTML part like this : <br>\n",
    "![ss4](img/ss4.png)\n",
    "<br>\n",
    "3. If you notice, all content is saved in all `<p>` type. One paraghraph is saved in one `<p>`.\n",
    "\n",
    "Now let do the code:\n"
   ]
  },
  {
   "cell_type": "code",
   "execution_count": 30,
   "metadata": {},
   "outputs": [
    {
     "name": "stdout",
     "output_type": "stream",
     "text": [
      "[<p>POSE BERSAMA. Danrem 161/Wira Sakti, Brigjen TNI Teguh Muji Angkasa pose bersama warga pulau Kera usai baksos, Sabtu (9/9)</p>, <p style=\"padding-left: 30px;\"><strong>Bagi Sembako untuk Warga Pulau Kera dan Uiasa</strong></p>, <p><strong>OELAMASI, TIMEX</strong> – Menjelang HUT ke-72 TNI, Korem 161/Wira Sakti menggelar bakti sosial (Baksos) pembagian sembako kepada masyarakat pulau Kera dan masyarakat Desa Uiasa Kecamatan Semau, Sabtu (9/9).</p>, <p>Kegiatan baksos dipimpin Danrem 161/Wira Sakti (WS), Brigjen TNI Teguh Muji Angkasa, didampingi Ketua Persit KCK Koorcab Rem 161 PD IX/Udayana, Erny Teguh Muji Angkasa, Kasrem, para Kasi dan Dandim 1604/Kupang.</p>, <p>Kehadiran Danrem beserta rombongan di dua lokasi tersebut mendapat sambutan hangat tokoh masyarakat dan warga setempat.<br/>\n",
      "Di pulau Kera, masyarakat yang sudah berkumpul di halaman Mushola Dahrul Bahar, menanti kesempatan bertatap muka dengan Danrem.<br/>\n",
      "Salah satu Ketua RW di pulau Kera, Hamdan Saba menyampaikan ucapan terima kasih atas kunjungan Danrem dan rombongan dalam rangka baksos serta mengutarakan beberapa hal tentang kondisi masyarakat pulau Kera yang hampir seluruhnya bermata pencaharian sebagai nelayan yang menurutnya, masih butuh perhatian terkait status kependudukan, pendidikan bagi anak-anak mereka dan perlunya bantuan sosial sebagai wilayah yang terisolir.</p>, <p>“Hidup dan kondisi kami ibarat buah simalakama dengan kondisi begini,” kata Hamdan yang mengaku sudah berdiam di pulau Kera hampir 20 tahun, seraya berharap adanya perbaikan dan perhatian terhadap nasib mereka.</p>, <p>Menanggapi hal tersebut, Danrem 161/Wira Sakti, Brigjen TNI Teguh Muji Angkasa mengatakan, tujuan utama kehadirannya di pulau Kera untuk melihat kondisi pulau tersebut dan masyarakat yang mendiaminya, sekaligus baksos pembagian sembako dalam rangka HUT ke-72 TNI. Hal itu juga sebagai kesempatan untuk bersilaturahmi menjalin kebersamaan dan persaudaraan.</p>, <p>Terkait kondisi masyarakat pulau Kera, ia merasa prihatin dengan kehidupan masyarakat yang kebutuhannya tergantung dari Kota Kupang. Selain itu, anak-anak tidak bersekolah dan tidak dapat mengenyam pendidikan yang layak.</p>, <p>“Semuanya dikembalikan kepada masyarakat pulau Kera yang semestinya mau untuk melakukan perubahan nasib dengan kondisi saat ini,” katanya.<br/>\n",
      "Karena menurutnya, dengan kondisi pulau Kera seperti demikian, maka banyak kesulitan yang akan dihadapi masyarakat dalam pemenuhan kebutuhan yang layak seperti pendidikan atau kepastian status kependudukan.</p>, <p>Dikatakan, dengan keluhan dan kondisi yang dihadapi masyarakat pulau Kera, semestinya mau direlokasi ke tempat lain yang lebih layak. Kenyataannya, masyarakat terdiam dan tak satupun menyatakan kesediaan untuk direlokasi ketika Danrem menanyakan terkait hal tersebut.</p>, <p>Danrem mengatakan, mana yang harus diprioritaskan. Masa depan anak-anak atau bertahan dengan kondisi seperti saat ini.<br/>\n",
      "“Bapak ibu, jika saya bodoh, maka saya tidak ingin anak saya bodoh. Jika saya miskin, saya tidak ingin anak saya bernasib miskin. Jika saya menderita, maka saya pun tidak ingin anak saya menderita,” ungkapnya.</p>, <p>Pada hari yang sama, dilakukan baksos di Desa Uiasa Kecamatan Semau. Kehadiran Danrem dan rombongan mendapat sambutan hangat dari tokoh masyarakat dan warga setempat.</p>, <p>Danrem disambut dengan tuturan adat oleh tua adat, Anus Pong sebagai ucapan selamat datang dan senantiasa didoakan untuk mendapatkan kesehatan dan keselamatan.<br/>\n",
      "Kepala Desa Uiasa, Daud Neno Keba dalam sambutannya mengucapkan terima kasih kepada Danrem Teguh Muji Angkasa dan rombongan telah memilih wilayahnya sebagai lokasi kegiatan baksos.</p>, <p>Menurutnya, Desa Uiasa secara geografis berhadapan langsung dengan Kota Kupang dengan jumlah penduduk 1.130 jiwa dengan luas wilayah 30.000 meter persegi. Mata pencaharian penduduk, sebagian besar bertani, nelayan dan pekerjaan lainnya.</p>, <p>Di kedua lokasi baksos, Danrem berpesan kepada masyarakat agar menjaga dan merawat kedua pulau dengan baik serta tetap jalin tali silaturahmi antarmasyarakat termasuk juga dengan aparat TNI maupun Polri. <strong>(mg22/ays)</strong></p>, <p><!-- END THEIA POST SLIDER --></p>, <p style=\"text-align: center;\"><a href=\"http://fajar.co.id\" target=\"_blank\">FAJAR.CO.ID</a> | <a href=\"http://fajaronline.com\" target=\"_blank\">HARIAN FAJAR</a> | <a href=\"http://fajaronline.com\" target=\"_blank\">FAJAR ONLINE</a> | <a href=\"http://www.useetv.com/livetv/fajartv\" target=\"_blank\">FAJAR TV </a>| <a href=\"http://fajarfmmakassar.com\" target=\"_blank\">FAJAR FM</a> | <a href=\"#\">FAJAR PENDIDIKAN</a> | <a href=\"http://beritakotamakassar.com\" target=\"_blank\">BERITA KOTA MAKASSAR </a>| <a href=\"http://parepos.co.id/\" target=\"_blank\">PAREPOS</a> |<a href=\"http://kendaripos.co.id\" target=\"_blank\"> KENDARI POS</a> | <a href=\"http://palopopos.co.id\" target=\"_blank\">PALOPO POS</a> | <a href=\"http://butonpos.com\" target=\"_blank\">BUTON POS</a> | <a href=\"http://radarmakassar.com\" target=\"_blank\">RADAR MAKASSAR</a> | <a href=\"http://radarsulbar.co.id\" target=\"_blank\">RADAR SULBAR</a> | <a href=\"#\">RADAR BONE</a> | <a href=\"http://radarselatan.co.id/\" target=\"_blank\">RADAR BULUKUMBA</a> | <a href=\"#\">RAKYAT JATENG</a> | <a href=\"http://upeks.co.id\" target=\"_blank\">UPEKS</a> | <a href=\"http://rakyatsulsel.com\" target=\"_blank\">RAKYAT SULSEL</a> | <a href=\"http://rakyatsultra.co.id\" target=\"_blank\">RAKYAT SULTRA</a> | <a href=\"http://maltengekspres.com\" target=\"_blank\">MALTENG EKSPRES</a> | <a href=\"http://ambonekspres.com\" target=\"_blank\">AMBON EKSPRES </a>| <a href=\"http://timorexpress.com\" target=\"_blank\">TIMOR EXPRES</a> | <a href=\"http://rakyatmaluku.com\">RAKYAT MALUKU</a> | <a href=\"http://kilasmaluku.com\">KILAS MALUKU</a> | <a href=\"http://sultra.fajar.co.id\" target=\"_blank\">FAJAR SULTRA</a> | <a href=\"http://paluekspres.com\" target=\"_blank\">PALU EKSPRES </a>|</p>, <p>© 2016 TIMOREXPRESS.COM by FAJAR.co.id</p>]\n"
     ]
    }
   ],
   "source": [
    "r = requests.get(\"http://timorexpress.fajar.co.id/2017/09/13/danrem-161ws-kunjungi-pulau-kera/\")\n",
    "bs = BeautifulSoup(r.text, \"html.parser\")\n",
    "print(bs.find_all('p'))"
   ]
  },
  {
   "cell_type": "markdown",
   "metadata": {},
   "source": [
    "We are so lucky! No other `<p>` elsewhere in this page. <br><br>\n",
    "<b> Note :  we can get the clean text by call `get_text()` in your bs4 attribute. Example : `bs.find('p').get_text()` <br></b>\n",
    "Doing some processing, we get :"
   ]
  },
  {
   "cell_type": "code",
   "execution_count": 31,
   "metadata": {},
   "outputs": [
    {
     "name": "stdout",
     "output_type": "stream",
     "text": [
      "POSE BERSAMA. Danrem 161/Wira Sakti, Brigjen TNI Teguh Muji Angkasa pose bersama warga pulau Kera usai baksos, Sabtu (9/9)Bagi Sembako untuk Warga Pulau Kera dan UiasaOELAMASI, TIMEX – Menjelang HUT ke-72 TNI, Korem 161/Wira Sakti menggelar bakti sosial (Baksos) pembagian sembako kepada masyarakat pulau Kera dan masyarakat Desa Uiasa Kecamatan Semau, Sabtu (9/9).Kegiatan baksos dipimpin Danrem 161/Wira Sakti (WS), Brigjen TNI Teguh Muji Angkasa, didampingi Ketua Persit KCK Koorcab Rem 161 PD IX/Udayana, Erny Teguh Muji Angkasa, Kasrem, para Kasi dan Dandim 1604/Kupang.Kehadiran Danrem beserta rombongan di dua lokasi tersebut mendapat sambutan hangat tokoh masyarakat dan warga setempat.\n",
      "Di pulau Kera, masyarakat yang sudah berkumpul di halaman Mushola Dahrul Bahar, menanti kesempatan bertatap muka dengan Danrem.\n",
      "Salah satu Ketua RW di pulau Kera, Hamdan Saba menyampaikan ucapan terima kasih atas kunjungan Danrem dan rombongan dalam rangka baksos serta mengutarakan beberapa hal tentang kondisi masyarakat pulau Kera yang hampir seluruhnya bermata pencaharian sebagai nelayan yang menurutnya, masih butuh perhatian terkait status kependudukan, pendidikan bagi anak-anak mereka dan perlunya bantuan sosial sebagai wilayah yang terisolir.“Hidup dan kondisi kami ibarat buah simalakama dengan kondisi begini,” kata Hamdan yang mengaku sudah berdiam di pulau Kera hampir 20 tahun, seraya berharap adanya perbaikan dan perhatian terhadap nasib mereka.Menanggapi hal tersebut, Danrem 161/Wira Sakti, Brigjen TNI Teguh Muji Angkasa mengatakan, tujuan utama kehadirannya di pulau Kera untuk melihat kondisi pulau tersebut dan masyarakat yang mendiaminya, sekaligus baksos pembagian sembako dalam rangka HUT ke-72 TNI. Hal itu juga sebagai kesempatan untuk bersilaturahmi menjalin kebersamaan dan persaudaraan.Terkait kondisi masyarakat pulau Kera, ia merasa prihatin dengan kehidupan masyarakat yang kebutuhannya tergantung dari Kota Kupang. Selain itu, anak-anak tidak bersekolah dan tidak dapat mengenyam pendidikan yang layak.“Semuanya dikembalikan kepada masyarakat pulau Kera yang semestinya mau untuk melakukan perubahan nasib dengan kondisi saat ini,” katanya.\n",
      "Karena menurutnya, dengan kondisi pulau Kera seperti demikian, maka banyak kesulitan yang akan dihadapi masyarakat dalam pemenuhan kebutuhan yang layak seperti pendidikan atau kepastian status kependudukan.Dikatakan, dengan keluhan dan kondisi yang dihadapi masyarakat pulau Kera, semestinya mau direlokasi ke tempat lain yang lebih layak. Kenyataannya, masyarakat terdiam dan tak satupun menyatakan kesediaan untuk direlokasi ketika Danrem menanyakan terkait hal tersebut.Danrem mengatakan, mana yang harus diprioritaskan. Masa depan anak-anak atau bertahan dengan kondisi seperti saat ini.\n",
      "“Bapak ibu, jika saya bodoh, maka saya tidak ingin anak saya bodoh. Jika saya miskin, saya tidak ingin anak saya bernasib miskin. Jika saya menderita, maka saya pun tidak ingin anak saya menderita,” ungkapnya.Pada hari yang sama, dilakukan baksos di Desa Uiasa Kecamatan Semau. Kehadiran Danrem dan rombongan mendapat sambutan hangat dari tokoh masyarakat dan warga setempat.Danrem disambut dengan tuturan adat oleh tua adat, Anus Pong sebagai ucapan selamat datang dan senantiasa didoakan untuk mendapatkan kesehatan dan keselamatan.\n",
      "Kepala Desa Uiasa, Daud Neno Keba dalam sambutannya mengucapkan terima kasih kepada Danrem Teguh Muji Angkasa dan rombongan telah memilih wilayahnya sebagai lokasi kegiatan baksos.Menurutnya, Desa Uiasa secara geografis berhadapan langsung dengan Kota Kupang dengan jumlah penduduk 1.130 jiwa dengan luas wilayah 30.000 meter persegi. Mata pencaharian penduduk, sebagian besar bertani, nelayan dan pekerjaan lainnya.Di kedua lokasi baksos, Danrem berpesan kepada masyarakat agar menjaga dan merawat kedua pulau dengan baik serta tetap jalin tali silaturahmi antarmasyarakat termasuk juga dengan aparat TNI maupun Polri. (mg22/ays)FAJAR.CO.ID | HARIAN FAJAR | FAJAR ONLINE | FAJAR TV | FAJAR FM | FAJAR PENDIDIKAN | BERITA KOTA MAKASSAR | PAREPOS | KENDARI POS | PALOPO POS | BUTON POS | RADAR MAKASSAR | RADAR SULBAR | RADAR BONE | RADAR BULUKUMBA | RAKYAT JATENG | UPEKS | RAKYAT SULSEL | RAKYAT SULTRA | MALTENG EKSPRES | AMBON EKSPRES | TIMOR EXPRES | RAKYAT MALUKU | KILAS MALUKU | FAJAR SULTRA | PALU EKSPRES |© 2016 TIMOREXPRESS.COM by FAJAR.co.id\n"
     ]
    }
   ],
   "source": [
    "content = ''\n",
    "for paraghrap in bs.find_all('p'):\n",
    "    content += paraghrap.get_text()\n",
    "print(content)"
   ]
  },
  {
   "cell_type": "markdown",
   "metadata": {},
   "source": [
    "Yes, we got all content. But, if you notice the last 4 paraghraph is contain dirty content like \"(mg22/ays)FAJAR.CO.ID |\" . We don't need it. So we doing this to get clean content:"
   ]
  },
  {
   "cell_type": "code",
   "execution_count": 34,
   "metadata": {},
   "outputs": [
    {
     "name": "stdout",
     "output_type": "stream",
     "text": [
      "POSE BERSAMA. Danrem 161/Wira Sakti, Brigjen TNI Teguh Muji Angkasa pose bersama warga pulau Kera usai baksos, Sabtu (9/9)Bagi Sembako untuk Warga Pulau Kera dan UiasaOELAMASI, TIMEX – Menjelang HUT ke-72 TNI, Korem 161/Wira Sakti menggelar bakti sosial (Baksos) pembagian sembako kepada masyarakat pulau Kera dan masyarakat Desa Uiasa Kecamatan Semau, Sabtu (9/9).Kegiatan baksos dipimpin Danrem 161/Wira Sakti (WS), Brigjen TNI Teguh Muji Angkasa, didampingi Ketua Persit KCK Koorcab Rem 161 PD IX/Udayana, Erny Teguh Muji Angkasa, Kasrem, para Kasi dan Dandim 1604/Kupang.Kehadiran Danrem beserta rombongan di dua lokasi tersebut mendapat sambutan hangat tokoh masyarakat dan warga setempat.\n",
      "Di pulau Kera, masyarakat yang sudah berkumpul di halaman Mushola Dahrul Bahar, menanti kesempatan bertatap muka dengan Danrem.\n",
      "Salah satu Ketua RW di pulau Kera, Hamdan Saba menyampaikan ucapan terima kasih atas kunjungan Danrem dan rombongan dalam rangka baksos serta mengutarakan beberapa hal tentang kondisi masyarakat pulau Kera yang hampir seluruhnya bermata pencaharian sebagai nelayan yang menurutnya, masih butuh perhatian terkait status kependudukan, pendidikan bagi anak-anak mereka dan perlunya bantuan sosial sebagai wilayah yang terisolir.“Hidup dan kondisi kami ibarat buah simalakama dengan kondisi begini,” kata Hamdan yang mengaku sudah berdiam di pulau Kera hampir 20 tahun, seraya berharap adanya perbaikan dan perhatian terhadap nasib mereka.Menanggapi hal tersebut, Danrem 161/Wira Sakti, Brigjen TNI Teguh Muji Angkasa mengatakan, tujuan utama kehadirannya di pulau Kera untuk melihat kondisi pulau tersebut dan masyarakat yang mendiaminya, sekaligus baksos pembagian sembako dalam rangka HUT ke-72 TNI. Hal itu juga sebagai kesempatan untuk bersilaturahmi menjalin kebersamaan dan persaudaraan.Terkait kondisi masyarakat pulau Kera, ia merasa prihatin dengan kehidupan masyarakat yang kebutuhannya tergantung dari Kota Kupang. Selain itu, anak-anak tidak bersekolah dan tidak dapat mengenyam pendidikan yang layak.“Semuanya dikembalikan kepada masyarakat pulau Kera yang semestinya mau untuk melakukan perubahan nasib dengan kondisi saat ini,” katanya.\n",
      "Karena menurutnya, dengan kondisi pulau Kera seperti demikian, maka banyak kesulitan yang akan dihadapi masyarakat dalam pemenuhan kebutuhan yang layak seperti pendidikan atau kepastian status kependudukan.Dikatakan, dengan keluhan dan kondisi yang dihadapi masyarakat pulau Kera, semestinya mau direlokasi ke tempat lain yang lebih layak. Kenyataannya, masyarakat terdiam dan tak satupun menyatakan kesediaan untuk direlokasi ketika Danrem menanyakan terkait hal tersebut.Danrem mengatakan, mana yang harus diprioritaskan. Masa depan anak-anak atau bertahan dengan kondisi seperti saat ini.\n",
      "“Bapak ibu, jika saya bodoh, maka saya tidak ingin anak saya bodoh. Jika saya miskin, saya tidak ingin anak saya bernasib miskin. Jika saya menderita, maka saya pun tidak ingin anak saya menderita,” ungkapnya.Pada hari yang sama, dilakukan baksos di Desa Uiasa Kecamatan Semau. Kehadiran Danrem dan rombongan mendapat sambutan hangat dari tokoh masyarakat dan warga setempat.Danrem disambut dengan tuturan adat oleh tua adat, Anus Pong sebagai ucapan selamat datang dan senantiasa didoakan untuk mendapatkan kesehatan dan keselamatan.\n",
      "Kepala Desa Uiasa, Daud Neno Keba dalam sambutannya mengucapkan terima kasih kepada Danrem Teguh Muji Angkasa dan rombongan telah memilih wilayahnya sebagai lokasi kegiatan baksos.Menurutnya, Desa Uiasa secara geografis berhadapan langsung dengan Kota Kupang dengan jumlah penduduk 1.130 jiwa dengan luas wilayah 30.000 meter persegi. Mata pencaharian penduduk, sebagian besar bertani, nelayan dan pekerjaan lainnya.\n"
     ]
    }
   ],
   "source": [
    "content = ''\n",
    "paraghraps = bs.find_all('p')\n",
    "for paraghrap in paraghraps[:-4] :\n",
    "    content += paraghrap.get_text()\n",
    "print(content)"
   ]
  },
  {
   "cell_type": "markdown",
   "metadata": {},
   "source": [
    "To get the title, simply doing this:"
   ]
  },
  {
   "cell_type": "code",
   "execution_count": 35,
   "metadata": {},
   "outputs": [
    {
     "data": {
      "text/plain": [
       "'Danrem 161/WS Kunjungi Pulau Kera – TIMOREXPRESS.COM'"
      ]
     },
     "execution_count": 35,
     "metadata": {},
     "output_type": "execute_result"
    }
   ],
   "source": [
    "bs.title.string"
   ]
  },
  {
   "cell_type": "markdown",
   "metadata": {},
   "source": [
    "To remove the name of website in the title we can easly replace the string with empty string"
   ]
  },
  {
   "cell_type": "code",
   "execution_count": 47,
   "metadata": {},
   "outputs": [
    {
     "data": {
      "text/plain": [
       "'Danrem 161/WS Kunjungi Pulau Kera'"
      ]
     },
     "execution_count": 47,
     "metadata": {},
     "output_type": "execute_result"
    }
   ],
   "source": [
    "bs.title.string.replace(\" – TIMOREXPRESS.COM\", \"\")"
   ]
  },
  {
   "cell_type": "markdown",
   "metadata": {},
   "source": [
    "Now, wrap all the code."
   ]
  },
  {
   "cell_type": "code",
   "execution_count": 48,
   "metadata": {
    "collapsed": true
   },
   "outputs": [],
   "source": [
    "def parse_detail(url_article):\n",
    "    r = requests.get(url_article)\n",
    "    bs = BeautifulSoup(r.text, \"html.parser\")\n",
    "    title = bs.title.string.replace(\" – TIMOREXPRESS.COM\", \"\")\n",
    "    paraghraps = bs.find_all('p')\n",
    "    content = ''\n",
    "    for paraghrap in paraghraps[:-4]:\n",
    "        content += paraghrap.get_text()\n",
    "    return (title, content, url_article)"
   ]
  },
  {
   "cell_type": "markdown",
   "metadata": {},
   "source": [
    "Let's try."
   ]
  },
  {
   "cell_type": "code",
   "execution_count": 49,
   "metadata": {},
   "outputs": [
    {
     "data": {
      "text/plain": [
       "('Danrem 161/WS Kunjungi Pulau Kera',\n",
       " 'POSE BERSAMA. Danrem 161/Wira Sakti, Brigjen TNI Teguh Muji Angkasa pose bersama warga pulau Kera usai baksos, Sabtu (9/9)Bagi Sembako untuk Warga Pulau Kera dan UiasaOELAMASI, TIMEX – Menjelang HUT ke-72 TNI, Korem 161/Wira Sakti menggelar bakti sosial (Baksos) pembagian sembako kepada masyarakat pulau Kera dan masyarakat Desa Uiasa Kecamatan Semau, Sabtu (9/9).Kegiatan baksos dipimpin Danrem 161/Wira Sakti (WS), Brigjen TNI Teguh Muji Angkasa, didampingi Ketua Persit KCK Koorcab Rem 161 PD IX/Udayana, Erny Teguh Muji Angkasa, Kasrem, para Kasi dan Dandim 1604/Kupang.Kehadiran Danrem beserta rombongan di dua lokasi tersebut mendapat sambutan hangat tokoh masyarakat dan warga setempat.\\nDi pulau Kera, masyarakat yang sudah berkumpul di halaman Mushola Dahrul Bahar, menanti kesempatan bertatap muka dengan Danrem.\\nSalah satu Ketua RW di pulau Kera, Hamdan Saba menyampaikan ucapan terima kasih atas kunjungan Danrem dan rombongan dalam rangka baksos serta mengutarakan beberapa hal tentang kondisi masyarakat pulau Kera yang hampir seluruhnya bermata pencaharian sebagai nelayan yang menurutnya, masih butuh perhatian terkait status kependudukan, pendidikan bagi anak-anak mereka dan perlunya bantuan sosial sebagai wilayah yang terisolir.“Hidup dan kondisi kami ibarat buah simalakama dengan kondisi begini,” kata Hamdan yang mengaku sudah berdiam di pulau Kera hampir 20 tahun, seraya berharap adanya perbaikan dan perhatian terhadap nasib mereka.Menanggapi hal tersebut, Danrem 161/Wira Sakti, Brigjen TNI Teguh Muji Angkasa mengatakan, tujuan utama kehadirannya di pulau Kera untuk melihat kondisi pulau tersebut dan masyarakat yang mendiaminya, sekaligus baksos pembagian sembako dalam rangka HUT ke-72 TNI. Hal itu juga sebagai kesempatan untuk bersilaturahmi menjalin kebersamaan dan persaudaraan.Terkait kondisi masyarakat pulau Kera, ia merasa prihatin dengan kehidupan masyarakat yang kebutuhannya tergantung dari Kota Kupang. Selain itu, anak-anak tidak bersekolah dan tidak dapat mengenyam pendidikan yang layak.“Semuanya dikembalikan kepada masyarakat pulau Kera yang semestinya mau untuk melakukan perubahan nasib dengan kondisi saat ini,” katanya.\\nKarena menurutnya, dengan kondisi pulau Kera seperti demikian, maka banyak kesulitan yang akan dihadapi masyarakat dalam pemenuhan kebutuhan yang layak seperti pendidikan atau kepastian status kependudukan.Dikatakan, dengan keluhan dan kondisi yang dihadapi masyarakat pulau Kera, semestinya mau direlokasi ke tempat lain yang lebih layak. Kenyataannya, masyarakat terdiam dan tak satupun menyatakan kesediaan untuk direlokasi ketika Danrem menanyakan terkait hal tersebut.Danrem mengatakan, mana yang harus diprioritaskan. Masa depan anak-anak atau bertahan dengan kondisi seperti saat ini.\\n“Bapak ibu, jika saya bodoh, maka saya tidak ingin anak saya bodoh. Jika saya miskin, saya tidak ingin anak saya bernasib miskin. Jika saya menderita, maka saya pun tidak ingin anak saya menderita,” ungkapnya.Pada hari yang sama, dilakukan baksos di Desa Uiasa Kecamatan Semau. Kehadiran Danrem dan rombongan mendapat sambutan hangat dari tokoh masyarakat dan warga setempat.Danrem disambut dengan tuturan adat oleh tua adat, Anus Pong sebagai ucapan selamat datang dan senantiasa didoakan untuk mendapatkan kesehatan dan keselamatan.\\nKepala Desa Uiasa, Daud Neno Keba dalam sambutannya mengucapkan terima kasih kepada Danrem Teguh Muji Angkasa dan rombongan telah memilih wilayahnya sebagai lokasi kegiatan baksos.Menurutnya, Desa Uiasa secara geografis berhadapan langsung dengan Kota Kupang dengan jumlah penduduk 1.130 jiwa dengan luas wilayah 30.000 meter persegi. Mata pencaharian penduduk, sebagian besar bertani, nelayan dan pekerjaan lainnya.',\n",
       " 'http://timorexpress.fajar.co.id/2017/09/13/danrem-161ws-kunjungi-pulau-kera/')"
      ]
     },
     "execution_count": 49,
     "metadata": {},
     "output_type": "execute_result"
    }
   ],
   "source": [
    "parse_detail(\"http://timorexpress.fajar.co.id/2017/09/13/danrem-161ws-kunjungi-pulau-kera/\")"
   ]
  },
  {
   "cell_type": "markdown",
   "metadata": {},
   "source": [
    "You can make the main code. In example you want get all first 3 page of articles in rakyat-timor, surosa and flores-raya rubric."
   ]
  },
  {
   "cell_type": "code",
   "execution_count": 50,
   "metadata": {
    "collapsed": true
   },
   "outputs": [],
   "source": [
    "list_url_parents = [\n",
    "        'http://timorexpress.fajar.co.id/rubrik/rakyat-timor/page/',\n",
    "        'http://timorexpress.fajar.co.id/rubrik/surosa/page/'\n",
    "        'http://timorexpress.fajar.co.id/rubrik/flores-raya/page/'\n",
    "    ]\n",
    "articles = list()\n",
    "for url_parents in list_url_parents:\n",
    "    for page in range(0, 3):\n",
    "        url_parent = url_parents+str(page)\n",
    "        try:\n",
    "            list_ = parse_list(url_parent)\n",
    "        except:\n",
    "            continue\n",
    "        for url in list_:\n",
    "            articles.append(parse_detail(url))"
   ]
  },
  {
   "cell_type": "code",
   "execution_count": 51,
   "metadata": {},
   "outputs": [
    {
     "name": "stdout",
     "output_type": "stream",
     "text": [
      "Total Article :  56\n",
      "Example article :  POSE BERSAMA. Danrem 161/Wira Sakti, Brigjen TNI Teguh Muji Angkasa pose bersama warga pulau Kera usai baksos, Sabtu (9/9)Bagi Sembako untuk Warga Pulau Kera dan UiasaOELAMASI, TIMEX – Menjelang HUT ke-72 TNI, Korem 161/Wira Sakti menggelar bakti sosial (Baksos) pembagian sembako kepada masyarakat pulau Kera dan masyarakat Desa Uiasa Kecamatan Semau, Sabtu (9/9).Kegiatan baksos dipimpin Danrem 161/Wira Sakti (WS), Brigjen TNI Teguh Muji Angkasa, didampingi Ketua Persit KCK Koorcab Rem 161 PD IX/Udayana, Erny Teguh Muji Angkasa, Kasrem, para Kasi dan Dandim 1604/Kupang.Kehadiran Danrem beserta rombongan di dua lokasi tersebut mendapat sambutan hangat tokoh masyarakat dan warga setempat.\n",
      "Di pulau Kera, masyarakat yang sudah berkumpul di halaman Mushola Dahrul Bahar, menanti kesempatan bertatap muka dengan Danrem.\n",
      "Salah satu Ketua RW di pulau Kera, Hamdan Saba menyampaikan ucapan terima kasih atas kunjungan Danrem dan rombongan dalam rangka baksos serta mengutarakan beberapa hal tentang kondisi masyarakat pulau Kera yang hampir seluruhnya bermata pencaharian sebagai nelayan yang menurutnya, masih butuh perhatian terkait status kependudukan, pendidikan bagi anak-anak mereka dan perlunya bantuan sosial sebagai wilayah yang terisolir.“Hidup dan kondisi kami ibarat buah simalakama dengan kondisi begini,” kata Hamdan yang mengaku sudah berdiam di pulau Kera hampir 20 tahun, seraya berharap adanya perbaikan dan perhatian terhadap nasib mereka.Menanggapi hal tersebut, Danrem 161/Wira Sakti, Brigjen TNI Teguh Muji Angkasa mengatakan, tujuan utama kehadirannya di pulau Kera untuk melihat kondisi pulau tersebut dan masyarakat yang mendiaminya, sekaligus baksos pembagian sembako dalam rangka HUT ke-72 TNI. Hal itu juga sebagai kesempatan untuk bersilaturahmi menjalin kebersamaan dan persaudaraan.Terkait kondisi masyarakat pulau Kera, ia merasa prihatin dengan kehidupan masyarakat yang kebutuhannya tergantung dari Kota Kupang. Selain itu, anak-anak tidak bersekolah dan tidak dapat mengenyam pendidikan yang layak.“Semuanya dikembalikan kepada masyarakat pulau Kera yang semestinya mau untuk melakukan perubahan nasib dengan kondisi saat ini,” katanya.\n",
      "Karena menurutnya, dengan kondisi pulau Kera seperti demikian, maka banyak kesulitan yang akan dihadapi masyarakat dalam pemenuhan kebutuhan yang layak seperti pendidikan atau kepastian status kependudukan.Dikatakan, dengan keluhan dan kondisi yang dihadapi masyarakat pulau Kera, semestinya mau direlokasi ke tempat lain yang lebih layak. Kenyataannya, masyarakat terdiam dan tak satupun menyatakan kesediaan untuk direlokasi ketika Danrem menanyakan terkait hal tersebut.Danrem mengatakan, mana yang harus diprioritaskan. Masa depan anak-anak atau bertahan dengan kondisi seperti saat ini.\n",
      "“Bapak ibu, jika saya bodoh, maka saya tidak ingin anak saya bodoh. Jika saya miskin, saya tidak ingin anak saya bernasib miskin. Jika saya menderita, maka saya pun tidak ingin anak saya menderita,” ungkapnya.Pada hari yang sama, dilakukan baksos di Desa Uiasa Kecamatan Semau. Kehadiran Danrem dan rombongan mendapat sambutan hangat dari tokoh masyarakat dan warga setempat.Danrem disambut dengan tuturan adat oleh tua adat, Anus Pong sebagai ucapan selamat datang dan senantiasa didoakan untuk mendapatkan kesehatan dan keselamatan.\n",
      "Kepala Desa Uiasa, Daud Neno Keba dalam sambutannya mengucapkan terima kasih kepada Danrem Teguh Muji Angkasa dan rombongan telah memilih wilayahnya sebagai lokasi kegiatan baksos.Menurutnya, Desa Uiasa secara geografis berhadapan langsung dengan Kota Kupang dengan jumlah penduduk 1.130 jiwa dengan luas wilayah 30.000 meter persegi. Mata pencaharian penduduk, sebagian besar bertani, nelayan dan pekerjaan lainnya.\n"
     ]
    }
   ],
   "source": [
    "print(\"Total Article : \",  len(articles))\n",
    "print(\"Example article : \", articles[0][1])"
   ]
  },
  {
   "cell_type": "markdown",
   "metadata": {},
   "source": [
    "Now, you ready to crawl a publisher site. The hardest part is always finding the right HTML part and make sure it not contain any other part. Also make sure your content is clean from any HTML, javascript, or unimportant content like example above. \n",
    "\n",
    "Disclaimer : We are not responsible if you get caught by anyone by crawl a site. (Be Safe)"
   ]
  }
 ],
 "metadata": {
  "kernelspec": {
   "display_name": "Python 3",
   "language": "python",
   "name": "python3"
  },
  "language_info": {
   "codemirror_mode": {
    "name": "ipython",
    "version": 3
   },
   "file_extension": ".py",
   "mimetype": "text/x-python",
   "name": "python",
   "nbconvert_exporter": "python",
   "pygments_lexer": "ipython3",
   "version": "3.5.2"
  }
 },
 "nbformat": 4,
 "nbformat_minor": 2
}
